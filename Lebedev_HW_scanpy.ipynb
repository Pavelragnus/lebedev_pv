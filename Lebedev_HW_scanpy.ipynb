{
 "cells": [
  {
   "cell_type": "code",
   "execution_count": 1,
   "id": "ea70725f-118a-4a13-b431-e424e4d26fd2",
   "metadata": {
    "collapsed": true,
    "jupyter": {
     "outputs_hidden": true
    },
    "tags": []
   },
   "outputs": [
    {
     "name": "stdout",
     "output_type": "stream",
     "text": [
      "Collecting scanpy\n",
      "  Downloading scanpy-1.9.3-py3-none-any.whl (2.0 MB)\n",
      "     ---------------------------------------- 2.0/2.0 MB 5.9 MB/s eta 0:00:00\n",
      "Requirement already satisfied: statsmodels>=0.10.0rc2 in c:\\users\\_msi_\\anaconda3\\lib\\site-packages (from scanpy) (0.13.2)\n",
      "Requirement already satisfied: matplotlib>=3.4 in c:\\users\\_msi_\\anaconda3\\lib\\site-packages (from scanpy) (3.5.2)\n",
      "Requirement already satisfied: scipy>=1.4 in c:\\users\\_msi_\\anaconda3\\lib\\site-packages (from scanpy) (1.9.1)\n",
      "Requirement already satisfied: tqdm in c:\\users\\_msi_\\anaconda3\\lib\\site-packages (from scanpy) (4.64.1)\n",
      "Requirement already satisfied: scikit-learn>=0.22 in c:\\users\\_msi_\\anaconda3\\lib\\site-packages (from scanpy) (1.0.2)\n",
      "Requirement already satisfied: patsy in c:\\users\\_msi_\\anaconda3\\lib\\site-packages (from scanpy) (0.5.2)\n",
      "Requirement already satisfied: h5py>=3 in c:\\users\\_msi_\\anaconda3\\lib\\site-packages (from scanpy) (3.7.0)\n",
      "Collecting session-info\n",
      "  Downloading session_info-1.0.0.tar.gz (24 kB)\n",
      "  Preparing metadata (setup.py): started\n",
      "  Preparing metadata (setup.py): finished with status 'done'\n",
      "Requirement already satisfied: joblib in c:\\users\\_msi_\\anaconda3\\lib\\site-packages (from scanpy) (1.1.0)\n",
      "Collecting natsort\n",
      "  Downloading natsort-8.3.1-py3-none-any.whl (38 kB)\n",
      "Requirement already satisfied: packaging in c:\\users\\_msi_\\anaconda3\\lib\\site-packages (from scanpy) (21.3)\n",
      "Requirement already satisfied: numpy>=1.17.0 in c:\\users\\_msi_\\anaconda3\\lib\\site-packages (from scanpy) (1.21.5)\n",
      "Collecting umap-learn>=0.3.10\n",
      "  Downloading umap-learn-0.5.3.tar.gz (88 kB)\n",
      "     ---------------------------------------- 88.2/88.2 kB 4.9 MB/s eta 0:00:00\n",
      "  Preparing metadata (setup.py): started\n",
      "  Preparing metadata (setup.py): finished with status 'done'\n",
      "Collecting anndata>=0.7.4\n",
      "  Downloading anndata-0.9.1-py3-none-any.whl (102 kB)\n",
      "     ---------------------------------------- 103.0/103.0 kB ? eta 0:00:00\n",
      "Requirement already satisfied: seaborn in c:\\users\\_msi_\\anaconda3\\lib\\site-packages (from scanpy) (0.11.2)\n",
      "Requirement already satisfied: numba>=0.41.0 in c:\\users\\_msi_\\anaconda3\\lib\\site-packages (from scanpy) (0.55.1)\n",
      "Requirement already satisfied: networkx>=2.3 in c:\\users\\_msi_\\anaconda3\\lib\\site-packages (from scanpy) (2.8.4)\n",
      "Requirement already satisfied: pandas>=1.0 in c:\\users\\_msi_\\anaconda3\\lib\\site-packages (from scanpy) (1.4.4)\n",
      "Requirement already satisfied: fonttools>=4.22.0 in c:\\users\\_msi_\\anaconda3\\lib\\site-packages (from matplotlib>=3.4->scanpy) (4.25.0)\n",
      "Requirement already satisfied: pyparsing>=2.2.1 in c:\\users\\_msi_\\anaconda3\\lib\\site-packages (from matplotlib>=3.4->scanpy) (3.0.9)\n",
      "Requirement already satisfied: pillow>=6.2.0 in c:\\users\\_msi_\\anaconda3\\lib\\site-packages (from matplotlib>=3.4->scanpy) (9.2.0)\n",
      "Requirement already satisfied: cycler>=0.10 in c:\\users\\_msi_\\anaconda3\\lib\\site-packages (from matplotlib>=3.4->scanpy) (0.11.0)\n",
      "Requirement already satisfied: kiwisolver>=1.0.1 in c:\\users\\_msi_\\anaconda3\\lib\\site-packages (from matplotlib>=3.4->scanpy) (1.4.2)\n",
      "Requirement already satisfied: python-dateutil>=2.7 in c:\\users\\_msi_\\anaconda3\\lib\\site-packages (from matplotlib>=3.4->scanpy) (2.8.2)\n",
      "Requirement already satisfied: llvmlite<0.39,>=0.38.0rc1 in c:\\users\\_msi_\\anaconda3\\lib\\site-packages (from numba>=0.41.0->scanpy) (0.38.0)\n",
      "Requirement already satisfied: setuptools in c:\\users\\_msi_\\anaconda3\\lib\\site-packages (from numba>=0.41.0->scanpy) (63.4.1)\n",
      "Requirement already satisfied: pytz>=2020.1 in c:\\users\\_msi_\\anaconda3\\lib\\site-packages (from pandas>=1.0->scanpy) (2022.1)\n",
      "Requirement already satisfied: threadpoolctl>=2.0.0 in c:\\users\\_msi_\\anaconda3\\lib\\site-packages (from scikit-learn>=0.22->scanpy) (2.2.0)\n",
      "Requirement already satisfied: six in c:\\users\\_msi_\\anaconda3\\lib\\site-packages (from patsy->scanpy) (1.16.0)\n",
      "Collecting pynndescent>=0.5\n",
      "  Downloading pynndescent-0.5.10.tar.gz (1.1 MB)\n",
      "     ---------------------------------------- 1.1/1.1 MB 9.0 MB/s eta 0:00:00\n",
      "  Preparing metadata (setup.py): started\n",
      "  Preparing metadata (setup.py): finished with status 'done'\n",
      "Collecting stdlib_list\n",
      "  Downloading stdlib_list-0.8.0-py3-none-any.whl (63 kB)\n",
      "     ---------------------------------------- 63.5/63.5 kB ? eta 0:00:00\n",
      "Requirement already satisfied: colorama in c:\\users\\_msi_\\anaconda3\\lib\\site-packages (from tqdm->scanpy) (0.4.5)\n",
      "Building wheels for collected packages: umap-learn, session-info, pynndescent\n",
      "  Building wheel for umap-learn (setup.py): started\n",
      "  Building wheel for umap-learn (setup.py): finished with status 'done'\n",
      "  Created wheel for umap-learn: filename=umap_learn-0.5.3-py3-none-any.whl size=82814 sha256=a3df3da16b4c5d380a518e85e7650356b930b03683c6f0cbc64d536a69c6f289\n",
      "  Stored in directory: c:\\users\\_msi_\\appdata\\local\\pip\\cache\\wheels\\f4\\3e\\1c\\596d0a463d17475af648688443fa4846fef624d1390339e7e9\n",
      "  Building wheel for session-info (setup.py): started\n",
      "  Building wheel for session-info (setup.py): finished with status 'done'\n",
      "  Created wheel for session-info: filename=session_info-1.0.0-py3-none-any.whl size=8037 sha256=7eac17a8eb52a398b65830233053194418136931a6c0733c6b45aed7b8a785de\n",
      "  Stored in directory: c:\\users\\_msi_\\appdata\\local\\pip\\cache\\wheels\\d4\\fc\\2e\\00ca60bac7954b84907efd41baa9b4853500eaeec4228410c6\n",
      "  Building wheel for pynndescent (setup.py): started\n",
      "  Building wheel for pynndescent (setup.py): finished with status 'done'\n",
      "  Created wheel for pynndescent: filename=pynndescent-0.5.10-py3-none-any.whl size=55622 sha256=bc928c69e5dc28cb4ed0aeca16970827a8959d283151c6f5e163f7763ff668f6\n",
      "  Stored in directory: c:\\users\\_msi_\\appdata\\local\\pip\\cache\\wheels\\12\\f9\\4d\\ec5ad1c823c710fcc4473669fdcffc8891f4bc398c841af22e\n",
      "Successfully built umap-learn session-info pynndescent\n",
      "Installing collected packages: stdlib_list, session-info, natsort, pynndescent, anndata, umap-learn, scanpy\n",
      "Successfully installed anndata-0.9.1 natsort-8.3.1 pynndescent-0.5.10 scanpy-1.9.3 session-info-1.0.0 stdlib_list-0.8.0 umap-learn-0.5.3\n",
      "Collecting harmonypy\n",
      "  Downloading harmonypy-0.0.9-py3-none-any.whl (20 kB)\n",
      "Requirement already satisfied: scipy in c:\\users\\_msi_\\anaconda3\\lib\\site-packages (from harmonypy) (1.9.1)\n",
      "Requirement already satisfied: pandas in c:\\users\\_msi_\\anaconda3\\lib\\site-packages (from harmonypy) (1.4.4)\n",
      "Requirement already satisfied: numpy in c:\\users\\_msi_\\anaconda3\\lib\\site-packages (from harmonypy) (1.21.5)\n",
      "Requirement already satisfied: scikit-learn in c:\\users\\_msi_\\anaconda3\\lib\\site-packages (from harmonypy) (1.0.2)\n",
      "Requirement already satisfied: python-dateutil>=2.8.1 in c:\\users\\_msi_\\anaconda3\\lib\\site-packages (from pandas->harmonypy) (2.8.2)\n",
      "Requirement already satisfied: pytz>=2020.1 in c:\\users\\_msi_\\anaconda3\\lib\\site-packages (from pandas->harmonypy) (2022.1)\n",
      "Requirement already satisfied: joblib>=0.11 in c:\\users\\_msi_\\anaconda3\\lib\\site-packages (from scikit-learn->harmonypy) (1.1.0)\n",
      "Requirement already satisfied: threadpoolctl>=2.0.0 in c:\\users\\_msi_\\anaconda3\\lib\\site-packages (from scikit-learn->harmonypy) (2.2.0)\n",
      "Requirement already satisfied: six>=1.5 in c:\\users\\_msi_\\anaconda3\\lib\\site-packages (from python-dateutil>=2.8.1->pandas->harmonypy) (1.16.0)\n",
      "Installing collected packages: harmonypy\n",
      "Successfully installed harmonypy-0.0.9\n",
      "Collecting leidenalg\n",
      "  Downloading leidenalg-0.9.1-cp39-cp39-win_amd64.whl (103 kB)\n",
      "     -------------------------------------- 103.4/103.4 kB 2.0 MB/s eta 0:00:00\n",
      "Collecting igraph<0.11,>=0.10.0\n",
      "  Downloading igraph-0.10.4-cp39-abi3-win_amd64.whl (2.9 MB)\n",
      "     ---------------------------------------- 2.9/2.9 MB 6.3 MB/s eta 0:00:00\n",
      "Collecting texttable>=1.6.2\n",
      "  Downloading texttable-1.6.7-py2.py3-none-any.whl (10 kB)\n",
      "Installing collected packages: texttable, igraph, leidenalg\n",
      "Successfully installed igraph-0.10.4 leidenalg-0.9.1 texttable-1.6.7\n"
     ]
    }
   ],
   "source": [
    "# Loading the packages\n",
    "\n",
    "!pip3 install scanpy\n",
    "!pip3 install harmonypy\n",
    "!pip3 install leidenalg"
   ]
  },
  {
   "cell_type": "code",
   "execution_count": 4,
   "id": "e4d9dcec-6e15-4e4e-be73-cb3ce961b555",
   "metadata": {},
   "outputs": [
    {
     "name": "stdout",
     "output_type": "stream",
     "text": [
      "scanpy==1.9.3 anndata==0.9.1 umap==0.5.3 numpy==1.21.5 scipy==1.9.1 pandas==1.4.4 scikit-learn==1.0.2 statsmodels==0.13.2 python-igraph==0.10.4 pynndescent==0.5.10\n"
     ]
    }
   ],
   "source": [
    "import warnings\n",
    "warnings.simplefilter(action='ignore', category=FutureWarning)\n",
    "\n",
    "import matplotlib as mpl\n",
    "import numpy as np\n",
    "import pandas as pd\n",
    "import scanpy as sc\n",
    "\n",
    "sc.settings.verbosity = 3  # verbosity: errors (0), warnings (1), info (2), hints (3)\n",
    "sc.settings.set_figure_params(dpi=80, facecolor='white', color_map='viridis')\n",
    "sc.logging.print_header()"
   ]
  },
  {
   "cell_type": "code",
   "execution_count": 5,
   "id": "de61228e-1507-43d6-9c4c-baff9d090ceb",
   "metadata": {},
   "outputs": [
    {
     "name": "stdout",
     "output_type": "stream",
     "text": [
      "... writing an h5ad cache file to speedup reading next time\n"
     ]
    },
    {
     "ename": "KeyError",
     "evalue": "2",
     "output_type": "error",
     "traceback": [
      "\u001b[1;31m---------------------------------------------------------------------------\u001b[0m",
      "\u001b[1;31mKeyError\u001b[0m                                  Traceback (most recent call last)",
      "\u001b[1;32m~\\anaconda3\\lib\\site-packages\\pandas\\core\\indexes\\base.py\u001b[0m in \u001b[0;36mget_loc\u001b[1;34m(self, key, method, tolerance)\u001b[0m\n\u001b[0;32m   3628\u001b[0m             \u001b[1;32mtry\u001b[0m\u001b[1;33m:\u001b[0m\u001b[1;33m\u001b[0m\u001b[1;33m\u001b[0m\u001b[0m\n\u001b[1;32m-> 3629\u001b[1;33m                 \u001b[1;32mreturn\u001b[0m \u001b[0mself\u001b[0m\u001b[1;33m.\u001b[0m\u001b[0m_engine\u001b[0m\u001b[1;33m.\u001b[0m\u001b[0mget_loc\u001b[0m\u001b[1;33m(\u001b[0m\u001b[0mcasted_key\u001b[0m\u001b[1;33m)\u001b[0m\u001b[1;33m\u001b[0m\u001b[1;33m\u001b[0m\u001b[0m\n\u001b[0m\u001b[0;32m   3630\u001b[0m             \u001b[1;32mexcept\u001b[0m \u001b[0mKeyError\u001b[0m \u001b[1;32mas\u001b[0m \u001b[0merr\u001b[0m\u001b[1;33m:\u001b[0m\u001b[1;33m\u001b[0m\u001b[1;33m\u001b[0m\u001b[0m\n",
      "\u001b[1;32m~\\anaconda3\\lib\\site-packages\\pandas\\_libs\\index.pyx\u001b[0m in \u001b[0;36mpandas._libs.index.IndexEngine.get_loc\u001b[1;34m()\u001b[0m\n",
      "\u001b[1;32m~\\anaconda3\\lib\\site-packages\\pandas\\_libs\\index.pyx\u001b[0m in \u001b[0;36mpandas._libs.index.IndexEngine.get_loc\u001b[1;34m()\u001b[0m\n",
      "\u001b[1;32mpandas\\_libs\\hashtable_class_helper.pxi\u001b[0m in \u001b[0;36mpandas._libs.hashtable.Int64HashTable.get_item\u001b[1;34m()\u001b[0m\n",
      "\u001b[1;32mpandas\\_libs\\hashtable_class_helper.pxi\u001b[0m in \u001b[0;36mpandas._libs.hashtable.Int64HashTable.get_item\u001b[1;34m()\u001b[0m\n",
      "\u001b[1;31mKeyError\u001b[0m: 2",
      "\nThe above exception was the direct cause of the following exception:\n",
      "\u001b[1;31mKeyError\u001b[0m                                  Traceback (most recent call last)",
      "\u001b[1;32m~\\AppData\\Local\\Temp\\ipykernel_348\\2577135961.py\u001b[0m in \u001b[0;36m<module>\u001b[1;34m\u001b[0m\n\u001b[1;32m----> 1\u001b[1;33m \u001b[0mdata\u001b[0m \u001b[1;33m=\u001b[0m \u001b[0msc\u001b[0m\u001b[1;33m.\u001b[0m\u001b[0mread_10x_mtx\u001b[0m\u001b[1;33m(\u001b[0m\u001b[0mpath\u001b[0m \u001b[1;33m=\u001b[0m\u001b[1;34m''\u001b[0m\u001b[1;33m,\u001b[0m \u001b[0mprefix\u001b[0m \u001b[1;33m=\u001b[0m\u001b[1;34m'GSM3215435_ldlr_ko_'\u001b[0m\u001b[1;33m,\u001b[0m \u001b[0mcache\u001b[0m\u001b[1;33m=\u001b[0m\u001b[1;32mTrue\u001b[0m\u001b[1;33m)\u001b[0m\u001b[1;33m\u001b[0m\u001b[1;33m\u001b[0m\u001b[0m\n\u001b[0m",
      "\u001b[1;32m~\\anaconda3\\lib\\site-packages\\scanpy\\readwrite.py\u001b[0m in \u001b[0;36mread_10x_mtx\u001b[1;34m(path, var_names, make_unique, cache, cache_compression, gex_only, prefix)\u001b[0m\n\u001b[0;32m    488\u001b[0m     \u001b[0mgenefile_exists\u001b[0m \u001b[1;33m=\u001b[0m \u001b[1;33m(\u001b[0m\u001b[0mpath\u001b[0m \u001b[1;33m/\u001b[0m \u001b[1;34mf'{prefix}genes.tsv'\u001b[0m\u001b[1;33m)\u001b[0m\u001b[1;33m.\u001b[0m\u001b[0mis_file\u001b[0m\u001b[1;33m(\u001b[0m\u001b[1;33m)\u001b[0m\u001b[1;33m\u001b[0m\u001b[1;33m\u001b[0m\u001b[0m\n\u001b[0;32m    489\u001b[0m     \u001b[0mread\u001b[0m \u001b[1;33m=\u001b[0m \u001b[0m_read_legacy_10x_mtx\u001b[0m \u001b[1;32mif\u001b[0m \u001b[0mgenefile_exists\u001b[0m \u001b[1;32melse\u001b[0m \u001b[0m_read_v3_10x_mtx\u001b[0m\u001b[1;33m\u001b[0m\u001b[1;33m\u001b[0m\u001b[0m\n\u001b[1;32m--> 490\u001b[1;33m     adata = read(\n\u001b[0m\u001b[0;32m    491\u001b[0m         \u001b[0mstr\u001b[0m\u001b[1;33m(\u001b[0m\u001b[0mpath\u001b[0m\u001b[1;33m)\u001b[0m\u001b[1;33m,\u001b[0m\u001b[1;33m\u001b[0m\u001b[1;33m\u001b[0m\u001b[0m\n\u001b[0;32m    492\u001b[0m         \u001b[0mvar_names\u001b[0m\u001b[1;33m=\u001b[0m\u001b[0mvar_names\u001b[0m\u001b[1;33m,\u001b[0m\u001b[1;33m\u001b[0m\u001b[1;33m\u001b[0m\u001b[0m\n",
      "\u001b[1;32m~\\anaconda3\\lib\\site-packages\\scanpy\\readwrite.py\u001b[0m in \u001b[0;36m_read_v3_10x_mtx\u001b[1;34m(path, var_names, make_unique, cache, cache_compression, prefix)\u001b[0m\n\u001b[0;32m    569\u001b[0m     \u001b[1;32melse\u001b[0m\u001b[1;33m:\u001b[0m\u001b[1;33m\u001b[0m\u001b[1;33m\u001b[0m\u001b[0m\n\u001b[0;32m    570\u001b[0m         \u001b[1;32mraise\u001b[0m \u001b[0mValueError\u001b[0m\u001b[1;33m(\u001b[0m\u001b[1;34m\"`var_names` needs to be 'gene_symbols' or 'gene_ids'\"\u001b[0m\u001b[1;33m)\u001b[0m\u001b[1;33m\u001b[0m\u001b[1;33m\u001b[0m\u001b[0m\n\u001b[1;32m--> 571\u001b[1;33m     \u001b[0madata\u001b[0m\u001b[1;33m.\u001b[0m\u001b[0mvar\u001b[0m\u001b[1;33m[\u001b[0m\u001b[1;34m'feature_types'\u001b[0m\u001b[1;33m]\u001b[0m \u001b[1;33m=\u001b[0m \u001b[0mgenes\u001b[0m\u001b[1;33m[\u001b[0m\u001b[1;36m2\u001b[0m\u001b[1;33m]\u001b[0m\u001b[1;33m.\u001b[0m\u001b[0mvalues\u001b[0m\u001b[1;33m\u001b[0m\u001b[1;33m\u001b[0m\u001b[0m\n\u001b[0m\u001b[0;32m    572\u001b[0m     adata.obs_names = pd.read_csv(path / f'{prefix}barcodes.tsv.gz', header=None)[\n\u001b[0;32m    573\u001b[0m         \u001b[1;36m0\u001b[0m\u001b[1;33m\u001b[0m\u001b[1;33m\u001b[0m\u001b[0m\n",
      "\u001b[1;32m~\\anaconda3\\lib\\site-packages\\pandas\\core\\frame.py\u001b[0m in \u001b[0;36m__getitem__\u001b[1;34m(self, key)\u001b[0m\n\u001b[0;32m   3503\u001b[0m             \u001b[1;32mif\u001b[0m \u001b[0mself\u001b[0m\u001b[1;33m.\u001b[0m\u001b[0mcolumns\u001b[0m\u001b[1;33m.\u001b[0m\u001b[0mnlevels\u001b[0m \u001b[1;33m>\u001b[0m \u001b[1;36m1\u001b[0m\u001b[1;33m:\u001b[0m\u001b[1;33m\u001b[0m\u001b[1;33m\u001b[0m\u001b[0m\n\u001b[0;32m   3504\u001b[0m                 \u001b[1;32mreturn\u001b[0m \u001b[0mself\u001b[0m\u001b[1;33m.\u001b[0m\u001b[0m_getitem_multilevel\u001b[0m\u001b[1;33m(\u001b[0m\u001b[0mkey\u001b[0m\u001b[1;33m)\u001b[0m\u001b[1;33m\u001b[0m\u001b[1;33m\u001b[0m\u001b[0m\n\u001b[1;32m-> 3505\u001b[1;33m             \u001b[0mindexer\u001b[0m \u001b[1;33m=\u001b[0m \u001b[0mself\u001b[0m\u001b[1;33m.\u001b[0m\u001b[0mcolumns\u001b[0m\u001b[1;33m.\u001b[0m\u001b[0mget_loc\u001b[0m\u001b[1;33m(\u001b[0m\u001b[0mkey\u001b[0m\u001b[1;33m)\u001b[0m\u001b[1;33m\u001b[0m\u001b[1;33m\u001b[0m\u001b[0m\n\u001b[0m\u001b[0;32m   3506\u001b[0m             \u001b[1;32mif\u001b[0m \u001b[0mis_integer\u001b[0m\u001b[1;33m(\u001b[0m\u001b[0mindexer\u001b[0m\u001b[1;33m)\u001b[0m\u001b[1;33m:\u001b[0m\u001b[1;33m\u001b[0m\u001b[1;33m\u001b[0m\u001b[0m\n\u001b[0;32m   3507\u001b[0m                 \u001b[0mindexer\u001b[0m \u001b[1;33m=\u001b[0m \u001b[1;33m[\u001b[0m\u001b[0mindexer\u001b[0m\u001b[1;33m]\u001b[0m\u001b[1;33m\u001b[0m\u001b[1;33m\u001b[0m\u001b[0m\n",
      "\u001b[1;32m~\\anaconda3\\lib\\site-packages\\pandas\\core\\indexes\\base.py\u001b[0m in \u001b[0;36mget_loc\u001b[1;34m(self, key, method, tolerance)\u001b[0m\n\u001b[0;32m   3629\u001b[0m                 \u001b[1;32mreturn\u001b[0m \u001b[0mself\u001b[0m\u001b[1;33m.\u001b[0m\u001b[0m_engine\u001b[0m\u001b[1;33m.\u001b[0m\u001b[0mget_loc\u001b[0m\u001b[1;33m(\u001b[0m\u001b[0mcasted_key\u001b[0m\u001b[1;33m)\u001b[0m\u001b[1;33m\u001b[0m\u001b[1;33m\u001b[0m\u001b[0m\n\u001b[0;32m   3630\u001b[0m             \u001b[1;32mexcept\u001b[0m \u001b[0mKeyError\u001b[0m \u001b[1;32mas\u001b[0m \u001b[0merr\u001b[0m\u001b[1;33m:\u001b[0m\u001b[1;33m\u001b[0m\u001b[1;33m\u001b[0m\u001b[0m\n\u001b[1;32m-> 3631\u001b[1;33m                 \u001b[1;32mraise\u001b[0m \u001b[0mKeyError\u001b[0m\u001b[1;33m(\u001b[0m\u001b[0mkey\u001b[0m\u001b[1;33m)\u001b[0m \u001b[1;32mfrom\u001b[0m \u001b[0merr\u001b[0m\u001b[1;33m\u001b[0m\u001b[1;33m\u001b[0m\u001b[0m\n\u001b[0m\u001b[0;32m   3632\u001b[0m             \u001b[1;32mexcept\u001b[0m \u001b[0mTypeError\u001b[0m\u001b[1;33m:\u001b[0m\u001b[1;33m\u001b[0m\u001b[1;33m\u001b[0m\u001b[0m\n\u001b[0;32m   3633\u001b[0m                 \u001b[1;31m# If we have a listlike key, _check_indexing_error will raise\u001b[0m\u001b[1;33m\u001b[0m\u001b[1;33m\u001b[0m\u001b[0m\n",
      "\u001b[1;31mKeyError\u001b[0m: 2"
     ]
    }
   ],
   "source": [
    "data = sc.read_10x_mtx(path ='', prefix ='GSM3215435_ldlr_ko_', cache=True)"
   ]
  },
  {
   "cell_type": "code",
   "execution_count": null,
   "id": "342211fa-3542-4899-8698-3573356459c0",
   "metadata": {},
   "outputs": [],
   "source": []
  }
 ],
 "metadata": {
  "kernelspec": {
   "display_name": "Python 3 (ipykernel)",
   "language": "python",
   "name": "python3"
  },
  "language_info": {
   "codemirror_mode": {
    "name": "ipython",
    "version": 3
   },
   "file_extension": ".py",
   "mimetype": "text/x-python",
   "name": "python",
   "nbconvert_exporter": "python",
   "pygments_lexer": "ipython3",
   "version": "3.9.13"
  }
 },
 "nbformat": 4,
 "nbformat_minor": 5
}

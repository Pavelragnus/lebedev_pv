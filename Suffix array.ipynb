{
 "cells": [
  {
   "cell_type": "code",
   "execution_count": 5,
   "id": "f965260e-d03e-46c6-813d-8a9054c4ad7b",
   "metadata": {},
   "outputs": [],
   "source": [
    "s = 'ACGCACGTA$'"
   ]
  },
  {
   "cell_type": "code",
   "execution_count": 6,
   "id": "342c1c16-4751-429f-b1ec-1ccfeabb2fa9",
   "metadata": {},
   "outputs": [],
   "source": [
    "def suffix_array(s):\n",
    "    suffixes = {}\n",
    "    for i in range(0, len(s)):\n",
    "        suffix = s[i:len(s)]\n",
    "        suffixes.update({suffix:i})\n",
    "       \n",
    "        answer = dict(sorted(suffixes.items()))\n",
    "        answer = list(answer.values())\n",
    "    print(suffixes)\n",
    "    return answer\n"
   ]
  },
  {
   "cell_type": "code",
   "execution_count": 7,
   "id": "816db234-ba93-4fcc-b752-b8a16d19199e",
   "metadata": {},
   "outputs": [
    {
     "name": "stdout",
     "output_type": "stream",
     "text": [
      "{'ACGCACGTA$': 0, 'CGCACGTA$': 1, 'GCACGTA$': 2, 'CACGTA$': 3, 'ACGTA$': 4, 'CGTA$': 5, 'GTA$': 6, 'TA$': 7, 'A$': 8, '$': 9}\n",
      "9 8 0 4 3 1 5 2 6 7\n"
     ]
    }
   ],
   "source": [
    "print(*suffix_array(s), sep = ' ')"
   ]
  },
  {
   "cell_type": "code",
   "execution_count": null,
   "id": "c188ebfe-7d89-4781-a193-23f06374a662",
   "metadata": {},
   "outputs": [],
   "source": []
  }
 ],
 "metadata": {
  "kernelspec": {
   "display_name": "Python 3 (ipykernel)",
   "language": "python",
   "name": "python3"
  },
  "language_info": {
   "codemirror_mode": {
    "name": "ipython",
    "version": 3
   },
   "file_extension": ".py",
   "mimetype": "text/x-python",
   "name": "python",
   "nbconvert_exporter": "python",
   "pygments_lexer": "ipython3",
   "version": "3.9.13"
  }
 },
 "nbformat": 4,
 "nbformat_minor": 5
}

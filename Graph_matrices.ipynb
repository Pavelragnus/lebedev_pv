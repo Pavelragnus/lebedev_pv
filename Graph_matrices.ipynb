{
 "cells": [
  {
   "cell_type": "code",
   "execution_count": 1,
   "id": "03185768-be58-4699-b752-f5b1848dc8a1",
   "metadata": {
    "tags": []
   },
   "outputs": [],
   "source": [
    "import numpy as np"
   ]
  },
  {
   "cell_type": "code",
   "execution_count": 2,
   "id": "036c7ae6-7d59-4834-8bda-09fe84fa59b0",
   "metadata": {
    "tags": []
   },
   "outputs": [],
   "source": [
    "A = np.array([0.52, 0.8, 0.95, 0.29, 0.76])"
   ]
  },
  {
   "cell_type": "code",
   "execution_count": 3,
   "id": "10f4c1db-5675-4b2b-a1fa-211e36ccd942",
   "metadata": {
    "tags": []
   },
   "outputs": [
    {
     "data": {
      "text/plain": [
       "array([0.52, 0.8 , 0.95, 0.29, 0.76])"
      ]
     },
     "execution_count": 3,
     "metadata": {},
     "output_type": "execute_result"
    }
   ],
   "source": [
    "A"
   ]
  },
  {
   "cell_type": "code",
   "execution_count": 4,
   "id": "9c192d6e-5076-4fdd-a971-cd4b20aec10c",
   "metadata": {
    "tags": []
   },
   "outputs": [],
   "source": [
    "B = np.array([0.39, 0.74, 0.26, 0.5, 0.32])"
   ]
  },
  {
   "cell_type": "code",
   "execution_count": 5,
   "id": "ce90762c-d742-4fbb-a688-ae6900b8b37d",
   "metadata": {
    "tags": []
   },
   "outputs": [
    {
     "data": {
      "text/plain": [
       "array([0.39, 0.74, 0.26, 0.5 , 0.32])"
      ]
     },
     "execution_count": 5,
     "metadata": {},
     "output_type": "execute_result"
    }
   ],
   "source": [
    "B"
   ]
  },
  {
   "cell_type": "code",
   "execution_count": 6,
   "id": "7a54dc4b-8c6c-4c87-a012-d86cdf6236d7",
   "metadata": {
    "tags": []
   },
   "outputs": [
    {
     "data": {
      "text/plain": [
       "array([0.91, 1.54, 1.21, 0.79, 1.08])"
      ]
     },
     "execution_count": 6,
     "metadata": {},
     "output_type": "execute_result"
    }
   ],
   "source": [
    "A + B"
   ]
  },
  {
   "cell_type": "code",
   "execution_count": 7,
   "id": "d611d37e-eed1-4e8b-b24d-6ec54d6f3494",
   "metadata": {
    "tags": []
   },
   "outputs": [
    {
     "name": "stdout",
     "output_type": "stream",
     "text": [
      "Collecting git+https://github.com/pykeen/pykeen.git\n",
      "  Cloning https://github.com/pykeen/pykeen.git to /private/var/folders/xm/lz8thrrs1l5cks282q243ty40000gn/T/pip-req-build-xfhtittx\n",
      "  Running command git clone --filter=blob:none --quiet https://github.com/pykeen/pykeen.git /private/var/folders/xm/lz8thrrs1l5cks282q243ty40000gn/T/pip-req-build-xfhtittx\n",
      "  Resolved https://github.com/pykeen/pykeen.git to commit cb226fc1ff946f0bc6c1296ea5d3ee87a4ef773b\n",
      "  Installing build dependencies ... \u001b[?25ldone\n",
      "\u001b[?25h  Getting requirements to build wheel ... \u001b[?25ldone\n",
      "\u001b[?25h  Preparing metadata (pyproject.toml) ... \u001b[?25ldone\n",
      "\u001b[?25hCollecting protobuf<4.0.0\n",
      "  Downloading protobuf-3.20.3-py2.py3-none-any.whl (162 kB)\n",
      "\u001b[2K     \u001b[90m━━━━━━━━━━━━━━━━━━━━━━━━━━━━━━━━━━━━━━━\u001b[0m \u001b[32m162.1/162.1 kB\u001b[0m \u001b[31m4.1 MB/s\u001b[0m eta \u001b[36m0:00:00\u001b[0m\n",
      "\u001b[?25hRequirement already satisfied: click in /Library/Frameworks/Python.framework/Versions/3.9/lib/python3.9/site-packages (from pykeen==1.10.2.dev0) (8.1.3)\n",
      "Requirement already satisfied: tabulate in /Library/Frameworks/Python.framework/Versions/3.9/lib/python3.9/site-packages (from pykeen==1.10.2.dev0) (0.9.0)\n",
      "Collecting rexmex>=0.1.3\n",
      "  Downloading rexmex-0.1.3.tar.gz (21 kB)\n",
      "  Installing build dependencies ... \u001b[?25ldone\n",
      "\u001b[?25h  Getting requirements to build wheel ... \u001b[?25ldone\n",
      "\u001b[?25h  Installing backend dependencies ... \u001b[?25ldone\n",
      "\u001b[?25h  Preparing metadata (pyproject.toml) ... \u001b[?25ldone\n",
      "\u001b[?25hRequirement already satisfied: scikit-learn in /Library/Frameworks/Python.framework/Versions/3.9/lib/python3.9/site-packages (from pykeen==1.10.2.dev0) (1.2.0)\n",
      "Requirement already satisfied: pyyaml in /Library/Frameworks/Python.framework/Versions/3.9/lib/python3.9/site-packages (from pykeen==1.10.2.dev0) (6.0)\n",
      "Requirement already satisfied: scipy>=1.7.0 in /Library/Frameworks/Python.framework/Versions/3.9/lib/python3.9/site-packages (from pykeen==1.10.2.dev0) (1.9.3)\n",
      "Requirement already satisfied: tqdm in /Library/Frameworks/Python.framework/Versions/3.9/lib/python3.9/site-packages (from pykeen==1.10.2.dev0) (4.64.1)\n",
      "Collecting more-itertools\n",
      "  Downloading more_itertools-9.1.0-py3-none-any.whl (54 kB)\n",
      "\u001b[2K     \u001b[90m━━━━━━━━━━━━━━━━━━━━━━━━━━━━━━━━━━━━━━━━\u001b[0m \u001b[32m54.2/54.2 kB\u001b[0m \u001b[31m6.0 MB/s\u001b[0m eta \u001b[36m0:00:00\u001b[0m\n",
      "\u001b[?25hRequirement already satisfied: requests in /Library/Frameworks/Python.framework/Versions/3.9/lib/python3.9/site-packages (from pykeen==1.10.2.dev0) (2.28.1)\n",
      "Collecting pystow>=0.4.3\n",
      "  Downloading pystow-0.5.0-py3-none-any.whl (37 kB)\n",
      "Collecting dataclasses-json\n",
      "  Downloading dataclasses_json-0.5.7-py3-none-any.whl (25 kB)\n",
      "Collecting torch-ppr>=0.0.7\n",
      "  Downloading torch_ppr-0.0.8-py3-none-any.whl (12 kB)\n",
      "Collecting optuna>=2.0.0\n",
      "  Downloading optuna-3.1.1-py3-none-any.whl (365 kB)\n",
      "\u001b[2K     \u001b[90m━━━━━━━━━━━━━━━━━━━━━━━━━━━━━━━━━━━━━━━\u001b[0m \u001b[32m365.7/365.7 kB\u001b[0m \u001b[31m6.9 MB/s\u001b[0m eta \u001b[36m0:00:00\u001b[0ma \u001b[36m0:00:01\u001b[0m\n",
      "\u001b[?25hCollecting docdata\n",
      "  Downloading docdata-0.0.3-py3-none-any.whl (5.8 kB)\n",
      "Collecting torch>=2.0\n",
      "  Downloading torch-2.0.1-cp39-none-macosx_11_0_arm64.whl (55.8 MB)\n",
      "\u001b[2K     \u001b[90m━━━━━━━━━━━━━━━━━━━━━━━━━━━━━━━━━━━━━━━━\u001b[0m \u001b[32m55.8/55.8 MB\u001b[0m \u001b[31m8.6 MB/s\u001b[0m eta \u001b[36m0:00:00\u001b[0m00:01\u001b[0m00:01\u001b[0mm\n",
      "\u001b[?25hRequirement already satisfied: pandas>=1.0.0 in /Library/Frameworks/Python.framework/Versions/3.9/lib/python3.9/site-packages (from pykeen==1.10.2.dev0) (1.5.2)\n",
      "Collecting class-resolver>=0.3.10\n",
      "  Downloading class_resolver-0.4.2-py3-none-any.whl (24 kB)\n",
      "Collecting more-click\n",
      "  Downloading more_click-0.1.2-py3-none-any.whl (6.7 kB)\n",
      "Requirement already satisfied: typing-extensions in /Library/Frameworks/Python.framework/Versions/3.9/lib/python3.9/site-packages (from pykeen==1.10.2.dev0) (4.5.0)\n",
      "Requirement already satisfied: numpy in /Library/Frameworks/Python.framework/Versions/3.9/lib/python3.9/site-packages (from pykeen==1.10.2.dev0) (1.23.5)\n",
      "Collecting torch-max-mem>=0.0.4\n",
      "  Downloading torch_max_mem-0.0.5-py3-none-any.whl (8.2 kB)\n",
      "Collecting click-default-group\n",
      "  Downloading click-default-group-1.2.2.tar.gz (3.3 kB)\n",
      "  Preparing metadata (setup.py) ... \u001b[?25ldone\n",
      "\u001b[?25hRequirement already satisfied: importlib-metadata>3.6 in /Users/pavellebedev/Library/Python/3.9/lib/python/site-packages (from class-resolver>=0.3.10->pykeen==1.10.2.dev0) (5.0.0)\n",
      "Requirement already satisfied: packaging>=20.0 in /Users/pavellebedev/Library/Python/3.9/lib/python/site-packages (from optuna>=2.0.0->pykeen==1.10.2.dev0) (21.3)\n",
      "Collecting cmaes>=0.9.1\n",
      "  Downloading cmaes-0.9.1-py3-none-any.whl (21 kB)\n",
      "Collecting alembic>=1.5.0\n",
      "  Downloading alembic-1.11.1-py3-none-any.whl (224 kB)\n",
      "\u001b[2K     \u001b[90m━━━━━━━━━━━━━━━━━━━━━━━━━━━━━━━━━━━━━━━\u001b[0m \u001b[32m224.5/224.5 kB\u001b[0m \u001b[31m8.1 MB/s\u001b[0m eta \u001b[36m0:00:00\u001b[0m\n",
      "\u001b[?25hRequirement already satisfied: sqlalchemy>=1.3.0 in /Library/Frameworks/Python.framework/Versions/3.9/lib/python3.9/site-packages (from optuna>=2.0.0->pykeen==1.10.2.dev0) (1.4.47)\n",
      "Collecting colorlog\n",
      "  Downloading colorlog-6.7.0-py2.py3-none-any.whl (11 kB)\n",
      "Requirement already satisfied: pytz>=2020.1 in /Library/Frameworks/Python.framework/Versions/3.9/lib/python3.9/site-packages (from pandas>=1.0.0->pykeen==1.10.2.dev0) (2022.6)\n",
      "Requirement already satisfied: python-dateutil>=2.8.1 in /Users/pavellebedev/Library/Python/3.9/lib/python/site-packages (from pandas>=1.0.0->pykeen==1.10.2.dev0) (2.8.2)\n",
      "Requirement already satisfied: jinja2 in /Users/pavellebedev/Library/Python/3.9/lib/python/site-packages (from torch>=2.0->pykeen==1.10.2.dev0) (3.1.2)\n",
      "Requirement already satisfied: sympy in /Library/Frameworks/Python.framework/Versions/3.9/lib/python3.9/site-packages (from torch>=2.0->pykeen==1.10.2.dev0) (1.11.1)\n",
      "Collecting filelock\n",
      "  Downloading filelock-3.12.0-py3-none-any.whl (10 kB)\n",
      "Requirement already satisfied: networkx in /Library/Frameworks/Python.framework/Versions/3.9/lib/python3.9/site-packages (from torch>=2.0->pykeen==1.10.2.dev0) (3.0)\n",
      "Collecting marshmallow<4.0.0,>=3.3.0\n",
      "  Downloading marshmallow-3.19.0-py3-none-any.whl (49 kB)\n",
      "\u001b[2K     \u001b[90m━━━━━━━━━━━━━━━━━━━━━━━━━━━━━━━━━━━━━━━━\u001b[0m \u001b[32m49.1/49.1 kB\u001b[0m \u001b[31m6.8 MB/s\u001b[0m eta \u001b[36m0:00:00\u001b[0m\n",
      "\u001b[?25hCollecting typing-inspect>=0.4.0\n",
      "  Downloading typing_inspect-0.9.0-py3-none-any.whl (8.8 kB)\n",
      "Collecting marshmallow-enum<2.0.0,>=1.5.1\n",
      "  Downloading marshmallow_enum-1.5.1-py2.py3-none-any.whl (4.2 kB)\n",
      "Requirement already satisfied: urllib3<1.27,>=1.21.1 in /Library/Frameworks/Python.framework/Versions/3.9/lib/python3.9/site-packages (from requests->pykeen==1.10.2.dev0) (1.26.13)\n",
      "Requirement already satisfied: idna<4,>=2.5 in /Users/pavellebedev/Library/Python/3.9/lib/python/site-packages (from requests->pykeen==1.10.2.dev0) (3.4)\n",
      "Requirement already satisfied: charset-normalizer<3,>=2 in /Library/Frameworks/Python.framework/Versions/3.9/lib/python3.9/site-packages (from requests->pykeen==1.10.2.dev0) (2.1.1)\n",
      "Requirement already satisfied: certifi>=2017.4.17 in /Library/Frameworks/Python.framework/Versions/3.9/lib/python3.9/site-packages (from requests->pykeen==1.10.2.dev0) (2022.12.7)\n",
      "Requirement already satisfied: threadpoolctl>=2.0.0 in /Library/Frameworks/Python.framework/Versions/3.9/lib/python3.9/site-packages (from scikit-learn->pykeen==1.10.2.dev0) (3.1.0)\n",
      "Requirement already satisfied: joblib>=1.1.1 in /Library/Frameworks/Python.framework/Versions/3.9/lib/python3.9/site-packages (from scikit-learn->pykeen==1.10.2.dev0) (1.2.0)\n",
      "Collecting Mako\n",
      "  Downloading Mako-1.2.4-py3-none-any.whl (78 kB)\n",
      "\u001b[2K     \u001b[90m━━━━━━━━━━━━━━━━━━━━━━━━━━━━━━━━━━━━━━━━\u001b[0m \u001b[32m78.7/78.7 kB\u001b[0m \u001b[31m7.8 MB/s\u001b[0m eta \u001b[36m0:00:00\u001b[0m\n",
      "\u001b[?25hRequirement already satisfied: zipp>=0.5 in /Users/pavellebedev/Library/Python/3.9/lib/python/site-packages (from importlib-metadata>3.6->class-resolver>=0.3.10->pykeen==1.10.2.dev0) (3.10.0)\n",
      "Requirement already satisfied: pyparsing!=3.0.5,>=2.0.2 in /Users/pavellebedev/Library/Python/3.9/lib/python/site-packages (from packaging>=20.0->optuna>=2.0.0->pykeen==1.10.2.dev0) (3.0.9)\n",
      "Requirement already satisfied: six>=1.5 in /Users/pavellebedev/Library/Python/3.9/lib/python/site-packages (from python-dateutil>=2.8.1->pandas>=1.0.0->pykeen==1.10.2.dev0) (1.16.0)\n",
      "Collecting mypy-extensions>=0.3.0\n",
      "  Downloading mypy_extensions-1.0.0-py3-none-any.whl (4.7 kB)\n",
      "Requirement already satisfied: MarkupSafe>=2.0 in /Users/pavellebedev/Library/Python/3.9/lib/python/site-packages (from jinja2->torch>=2.0->pykeen==1.10.2.dev0) (2.1.1)\n",
      "Requirement already satisfied: mpmath>=0.19 in /Library/Frameworks/Python.framework/Versions/3.9/lib/python3.9/site-packages (from sympy->torch>=2.0->pykeen==1.10.2.dev0) (1.2.1)\n",
      "Building wheels for collected packages: pykeen, rexmex, click-default-group\n",
      "  Building wheel for pykeen (pyproject.toml) ... \u001b[?25ldone\n",
      "\u001b[?25h  Created wheel for pykeen: filename=pykeen-1.10.2.dev0-py3-none-any.whl size=694683 sha256=728ee08a14462e4953c159f55b76a67fe86fb5c5abe7cd39305c69ad5f8989c3\n",
      "  Stored in directory: /private/var/folders/xm/lz8thrrs1l5cks282q243ty40000gn/T/pip-ephem-wheel-cache-mut0cw2v/wheels/7d/b0/ca/2046080a5c2723fa7d03384b4a828bcf7a7d8871a582df9ece\n",
      "  Building wheel for rexmex (pyproject.toml) ... \u001b[?25ldone\n",
      "\u001b[?25h  Created wheel for rexmex: filename=rexmex-0.1.3-py3-none-any.whl size=19952 sha256=e688744866678012fa2938e41cee4b500f365e6f440648ea9ab712e50217332c\n",
      "  Stored in directory: /Users/pavellebedev/Library/Caches/pip/wheels/d0/23/ec/a2fd10b66145673654fc2906f941257e723f2259857b3484b8\n",
      "  Building wheel for click-default-group (setup.py) ... \u001b[?25ldone\n",
      "\u001b[?25h  Created wheel for click-default-group: filename=click_default_group-1.2.2-py3-none-any.whl size=3383 sha256=b5c2b1f6aa27cbe0e77c0b1afe78bf29f7013f1e4c5479b6181c3882666058ef\n",
      "  Stored in directory: /Users/pavellebedev/Library/Caches/pip/wheels/f1/e3/67/f79591b232f0deb8e51317fa288eef8b996e2d6cf033bdc1a0\n",
      "Successfully built pykeen rexmex click-default-group\n",
      "Installing collected packages: protobuf, mypy-extensions, more-itertools, more-click, Mako, filelock, docdata, colorlog, cmaes, click-default-group, typing-inspect, torch, pystow, marshmallow, class-resolver, alembic, torch-max-mem, rexmex, optuna, marshmallow-enum, torch-ppr, dataclasses-json, pykeen\n",
      "  Attempting uninstall: protobuf\n",
      "    Found existing installation: protobuf 4.22.1\n",
      "    Uninstalling protobuf-4.22.1:\n",
      "      Successfully uninstalled protobuf-4.22.1\n",
      "Successfully installed Mako-1.2.4 alembic-1.11.1 class-resolver-0.4.2 click-default-group-1.2.2 cmaes-0.9.1 colorlog-6.7.0 dataclasses-json-0.5.7 docdata-0.0.3 filelock-3.12.0 marshmallow-3.19.0 marshmallow-enum-1.5.1 more-click-0.1.2 more-itertools-9.1.0 mypy-extensions-1.0.0 optuna-3.1.1 protobuf-3.20.3 pykeen-1.10.2.dev0 pystow-0.5.0 rexmex-0.1.3 torch-2.0.1 torch-max-mem-0.0.5 torch-ppr-0.0.8 typing-inspect-0.9.0\n",
      "\n",
      "\u001b[1m[\u001b[0m\u001b[34;49mnotice\u001b[0m\u001b[1;39;49m]\u001b[0m\u001b[39;49m A new release of pip is available: \u001b[0m\u001b[31;49m23.0.1\u001b[0m\u001b[39;49m -> \u001b[0m\u001b[32;49m23.1.2\u001b[0m\n",
      "\u001b[1m[\u001b[0m\u001b[34;49mnotice\u001b[0m\u001b[1;39;49m]\u001b[0m\u001b[39;49m To update, run: \u001b[0m\u001b[32;49mpip install --upgrade pip\u001b[0m\n"
     ]
    },
    {
     "ename": "NameError",
     "evalue": "name 'pykeen' is not defined",
     "output_type": "error",
     "traceback": [
      "\u001b[0;31m---------------------------------------------------------------------------\u001b[0m",
      "\u001b[0;31mNameError\u001b[0m                                 Traceback (most recent call last)",
      "Cell \u001b[0;32mIn [7], line 2\u001b[0m\n\u001b[1;32m      1\u001b[0m get_ipython()\u001b[38;5;241m.\u001b[39msystem(\u001b[38;5;124m'\u001b[39m\u001b[38;5;124m pip3 install git+https://github.com/pykeen/pykeen.git\u001b[39m\u001b[38;5;124m'\u001b[39m)\n\u001b[0;32m----> 2\u001b[0m \u001b[43mpykeen\u001b[49m\u001b[38;5;241m.\u001b[39menv()\n",
      "\u001b[0;31mNameError\u001b[0m: name 'pykeen' is not defined"
     ]
    }
   ],
   "source": [
    "! pip3 install git+https://github.com/pykeen/pykeen.git\n",
    "pykeen.env()"
   ]
  },
  {
   "cell_type": "code",
   "execution_count": null,
   "id": "ad674271-ed55-4212-8895-12cb50688b81",
   "metadata": {},
   "outputs": [],
   "source": []
  }
 ],
 "metadata": {
  "kernelspec": {
   "display_name": "Python 3 (ipykernel)",
   "language": "python",
   "name": "python3"
  },
  "language_info": {
   "codemirror_mode": {
    "name": "ipython",
    "version": 3
   },
   "file_extension": ".py",
   "mimetype": "text/x-python",
   "name": "python",
   "nbconvert_exporter": "python",
   "pygments_lexer": "ipython3",
   "version": "3.10.7"
  }
 },
 "nbformat": 4,
 "nbformat_minor": 5
}

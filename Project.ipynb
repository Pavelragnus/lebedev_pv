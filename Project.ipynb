{
 "cells": [
  {
   "cell_type": "code",
   "execution_count": 2,
   "id": "2375f9e6-dbd7-4acd-8f42-fda408e04b83",
   "metadata": {},
   "outputs": [],
   "source": [
    "import numpy as np\n",
    "import h5py\n",
    "import pandas as pd\n",
    "from itertools import islice\n",
    "from collections import Counter\n",
    "import re\n",
    "from itertools import islice\n",
    "from collections import Counter\n",
    "from io import BytesIO"
   ]
  },
  {
   "cell_type": "code",
   "execution_count": 134,
   "id": "b53bc8b2-6bc9-497c-a211-344ee3bd803d",
   "metadata": {},
   "outputs": [
    {
     "name": "stdout",
     "output_type": "stream",
     "text": [
      "data\n",
      "meta\n",
      "genes\n",
      "info\n",
      "samples\n",
      "<KeysViewHDF5 ['chromosome', 'ensembl_gene_id', 'gene_biotype', 'gene_symbol', 'genes', 'start_position']>\n"
     ]
    }
   ],
   "source": [
    "mouse = h5py.File('mouse_matrix_v11.h5', \"r\") # fot reading h5 dataframe\n",
    "data=mouse.keys()\n",
    "for key in mouse.keys():\n",
    "    print(key)\n",
    "for key in mouse['meta'].keys():\n",
    "    print(key)\n",
    "list_of_columns=mouse['meta']['genes'].keys()\n",
    "print(list_of_columns)"
   ]
  },
  {
   "cell_type": "code",
   "execution_count": 254,
   "id": "dbf0f137-34f6-4594-bf69-46ecdfd5a6ab",
   "metadata": {},
   "outputs": [
    {
     "name": "stdout",
     "output_type": "stream",
     "text": [
      "chromosome\n",
      "[b'missing' b'11' b'11' ... b'MT' b'MT' b'MT']\n",
      "ensembl_gene_id\n",
      "[b'missing' b'ENSMUSG00000007777' b'ENSMUSG00000043644' ...\n",
      " b'ENSMUSG00000065947' b'ENSMUSG00000064367' b'ENSMUSG00000064368']\n",
      "gene_biotype\n",
      "[b'missing' b'protein_coding' b'lncRNA' ... b'protein_coding'\n",
      " b'protein_coding' b'protein_coding']\n",
      "gene_symbol\n",
      "[b'0610007P14Rik' b'0610009B22Rik' b'0610009L18Rik' ... b'mt-Nd4l'\n",
      " b'mt-Nd5' b'mt-Nd6']\n",
      "genes\n",
      "[b'0610007P14Rik' b'0610009B22Rik' b'0610009L18Rik' ... b'mt-Nd4l'\n",
      " b'mt-Nd5' b'mt-Nd6']\n",
      "start_position\n",
      "[b'missing' b'51576213' b'120239504' ... b'9877' b'11742' b'13552']\n"
     ]
    }
   ],
   "source": [
    "with h5py.File('mouse_matrix_v11.h5', 'r') as f:\n",
    "    for key in f[\"meta/genes\"].keys():\n",
    "        a = f[\"meta/genes/\"][key]\n",
    "        print(key)\n",
    "        print(a[:])"
   ]
  },
  {
   "cell_type": "markdown",
   "id": "73b04b0d-9ca6-4e4d-bd88-dd5c93778401",
   "metadata": {},
   "source": [
    "Now every dataset from h5 file we transform into single table in pandas and then concatenate them into one table\n",
    "import h5py\n",
    "arch_file = \"/home/clever/test_cache/counts/archs4/mouse_matrix_v11.h5\"\n",
    "with h5py.File(arch_file, 'r') as arch_7:\n",
    "    for key in arch_7[\"meta/samples\"].keys():\n",
    "        a = arch_7[\"meta/samples/\"][key]\n",
    "        \n",
    "        print(key)\n",
    "        print(a[:])"
   ]
  },
  {
   "cell_type": "code",
   "execution_count": 301,
   "id": "d802c8d8-e3a2-4bb2-adb8-f98cde85c46a",
   "metadata": {},
   "outputs": [],
   "source": [
    "title=mouse['meta']['samples']['title']\n",
    "title_data=pd.DataFrame(title, columns=['title'])\n",
    "type=mouse['meta']['samples']['type']\n",
    "type_data=pd.DataFrame(type, columns=['type'])\n",
    "geo_accession=mouse['meta']['samples']['geo_accession']\n",
    "geo_accession_data=pd.DataFrame(geo_accession, columns=['geo_accession'])\n",
    "for col, dtype in geo_accession_data.dtypes.items():\n",
    "    if dtype == np.object_:  # Only process byte object columns.\n",
    "        geo_accession_data[col] = geo_accession_data[col].apply(lambda x: x.decode(\"utf-8\"))\n",
    "data_processing=mouse['meta']['samples']['data_processing']\n",
    "data_processing_data=pd.DataFrame(data_processing, columns=['data_processing'])\n",
    "characteristics_ch1=mouse['meta']['samples']['characteristics_ch1']\n",
    "characteristics_ch1_data=pd.DataFrame(characteristics_ch1, columns=['characteristics_ch1'])\n",
    "extract_protocol_ch1=mouse['meta']['samples']['extract_protocol_ch1']\n",
    "extract_protocol_ch1_data=pd.DataFrame(extract_protocol_ch1, columns=['extract_protocol_ch1'])\n",
    "instrument_model=mouse['meta']['samples']['instrument_model']\n",
    "instrument_model_data=pd.DataFrame(instrument_model, columns=['instrument_model'])\n",
    "library_selection=mouse['meta']['samples']['library_selection']\n",
    "library_selection_data=pd.DataFrame(library_selection, columns=['library_selection'])\n",
    "library_source=mouse['meta']['samples']['library_source']\n",
    "library_source_data=pd.DataFrame(library_source, columns=['library_source'])\n",
    "library_strategy=mouse['meta']['samples']['library_strategy']\n",
    "library_strategy_data=pd.DataFrame(library_strategy, columns=['library_strategy'])\n",
    "molecule_ch1=mouse['meta']['samples']['molecule_ch1']\n",
    "molecule_ch1_data=pd.DataFrame(molecule_ch1, columns=['molecule_ch1'])\n",
    "organism_ch1=mouse['meta']['samples']['organism_ch1']\n",
    "organism_ch1_data=pd.DataFrame(organism_ch1, columns=['organism_ch1'])\n",
    "platform_id=mouse['meta']['samples']['platform_id']\n",
    "platform_id_data=pd.DataFrame(platform_id, columns=['platform_id'])\n",
    "for col, dtype in platform_id_data.dtypes.items():\n",
    "    if dtype == np.object_:  # Only process byte object columns.\n",
    "        platform_id_data[col] = platform_id_data[col].apply(lambda x: x.decode(\"utf-8\"))\n",
    "readsaligned=mouse['meta']['samples']['readsaligned']\n",
    "readsaligned_data=pd.DataFrame(readsaligned, columns=['readsaligned'])\n",
    "readstotal=mouse['meta']['samples']['readstotal']\n",
    "readstotal_data=pd.DataFrame(readstotal, columns=['readstotal'])\n",
    "relation=mouse['meta']['samples']['relation']\n",
    "relation_data=pd.DataFrame(relation, columns=['relation'])\n",
    "series_id=mouse['meta']['samples']['series_id']\n",
    "series_id_data=pd.DataFrame(series_id, columns=['series_id'])\n",
    "source_name_ch1=mouse['meta']['samples']['source_name_ch1']\n",
    "source_name_ch1_data=pd.DataFrame(source_name_ch1, columns=['source_name_ch1'])\n",
    "#for col, dtype in source_name_ch1_data.dtypes.items():\n",
    "#   if dtype == np.object_:  # Only process byte object columns.\n",
    "#        source_name_ch1_data[col] = source_name_ch1_data[col].apply(lambda x: x.decode(\"utf-8\"))\n",
    "status=mouse['meta']['samples']['status']\n",
    "status_data=pd.DataFrame(status, columns=['status'])\n",
    "taxid_ch1=mouse['meta']['samples']['taxid_ch1']\n",
    "taxid_ch1_data=pd.DataFrame(taxid_ch1, columns=['taxid_ch1'])\n",
    "table=pd.concat([taxid_ch1_data,status_data,source_name_ch1_data,series_id_data,relation_data,readstotal_data,readsaligned_data,platform_id_data,organism_ch1_data, molecule_ch1_data,library_strategy_data,library_selection_data, library_source_data,instrument_model_data,extract_protocol_ch1_data, characteristics_ch1_data,data_processing_data,geo_accession_data,type_data,title_data ],sort=False, axis=1)\n",
    "table.to_csv('table.csv')"
   ]
  },
  {
   "cell_type": "markdown",
   "id": "595ccb12-b894-4296-b839-4db10fc096fd",
   "metadata": {},
   "source": [
    "### Декодируем все строки из юникод в обычные (убираем b' ')"
   ]
  },
  {
   "cell_type": "markdown",
   "id": "77fe03d6-75fa-4d65-91ed-39e9df740187",
   "metadata": {},
   "source": [
    "for col, dtype in table.dtypes.items():\n",
    "    if dtype == np.object_:  # Only process byte object columns.\n",
    "        table[col] = table[col].apply(lambda x: x.decode(\"utf-8\"))\n",
    "table.to_csv('table.csv')"
   ]
  },
  {
   "cell_type": "code",
   "execution_count": 302,
   "id": "fdcb4737-4ba1-4115-b33f-aaf627d468a2",
   "metadata": {},
   "outputs": [
    {
     "name": "stdout",
     "output_type": "stream",
     "text": [
      "  taxid_ch1                    status     source_name_ch1  \\\n",
      "0  b'10090'  b'Public on Apr 07 2015'    b'kidney cortex'   \n",
      "1  b'10090'  b'Public on Jun 10 2016'  b'corpus callosum'   \n",
      "2  b'10090'  b'Public on Jun 10 2016'      b'dorsal horn'   \n",
      "3  b'10090'  b'Public on Jan 01 2016'      b'Lung tissue'   \n",
      "4  b'10090'  b'Public on Sep 10 2012'           b'Cortex'   \n",
      "\n",
      "                         series_id  \\\n",
      "0                      b'GSE54390'   \n",
      "1                      b'GSE75330'   \n",
      "2                      b'GSE75330'   \n",
      "3                      b'GSE64027'   \n",
      "4  b'GSE36025\\tGSE49417\\tGSE49847'   \n",
      "\n",
      "                                            relation  readstotal  \\\n",
      "0  b'BioSample: https://www.ncbi.nlm.nih.gov/bios...    39116064   \n",
      "1  b'BioSample: https://www.ncbi.nlm.nih.gov/bios...     1136541   \n",
      "2  b'BioSample: https://www.ncbi.nlm.nih.gov/bios...      514285   \n",
      "3  b'BioSample: https://www.ncbi.nlm.nih.gov/bios...    26804780   \n",
      "4  b'Reanalyzed by: GSE80797\\tSuperseded by: GSE9...   265978941   \n",
      "\n",
      "   readsaligned platform_id     organism_ch1  molecule_ch1 library_strategy  \\\n",
      "0      32884497    GPL13112  b'Mus musculus'  b'total RNA'       b'RNA-Seq'   \n",
      "1        308433    GPL13112  b'Mus musculus'  b'polyA RNA'       b'RNA-Seq'   \n",
      "2        148668    GPL13112  b'Mus musculus'  b'polyA RNA'       b'RNA-Seq'   \n",
      "3      23355974    GPL13112  b'Mus musculus'  b'total RNA'       b'RNA-Seq'   \n",
      "4     173619445    GPL13112  b'Mus musculus'  b'polyA RNA'       b'RNA-Seq'   \n",
      "\n",
      "  library_selection     library_source        instrument_model  \\\n",
      "0           b'cDNA'  b'transcriptomic'  b'Illumina HiSeq 2000'   \n",
      "1           b'cDNA'  b'transcriptomic'  b'Illumina HiSeq 2000'   \n",
      "2           b'cDNA'  b'transcriptomic'  b'Illumina HiSeq 2000'   \n",
      "3           b'cDNA'  b'transcriptomic'  b'Illumina HiSeq 2000'   \n",
      "4           b'cDNA'  b'transcriptomic'  b'Illumina HiSeq 2000'   \n",
      "\n",
      "                                extract_protocol_ch1  \\\n",
      "0  b'Thin outer slice of kidney cortex was immedi...   \n",
      "1  b\"Selected CNS regions were dissected in 300\\x...   \n",
      "2  b\"Selected CNS regions were dissected in 300\\x...   \n",
      "3  b\"Total RNA was extracted from pooled dissecte...   \n",
      "4  b'http://genome.ucsc.edu/cgi-bin/hgTrackUi?db=...   \n",
      "\n",
      "                                 characteristics_ch1  \\\n",
      "0  b'tissue: kidney cortex\\tstrain: C57BL/6\\tgend...   \n",
      "1  b'strain: PDGFRa-Cre\\tage: p61\\tSex: M\\ttreatm...   \n",
      "2  b'strain: C57BL6\\tage: p24\\tSex: ?\\ttreatment:...   \n",
      "3  b'strain: A/J\\tSex: female\\ttissue: Lung\\ttime...   \n",
      "4  b'lab: CSHL-m\\tlab description: Gingeras - Col...   \n",
      "\n",
      "                                     data_processing geo_accession    type  \\\n",
      "0  b'Reads were aligned to the genome using the B...    GSM1314260  b'SRA'   \n",
      "1  b'Read processing was performed as described (...    GSM2164318  b'SRA'   \n",
      "2  b'Read processing was performed as described (...    GSM2161048  b'SRA'   \n",
      "3  b'Illumina Casava1.8 software used for basecal...    GSM1563082  b'SRA'   \n",
      "4  b'http://genome.ucsc.edu/cgi-bin/hgTrackUi?db=...    GSM1000563  b'SRA'   \n",
      "\n",
      "                                               title  \n",
      "0                            b'TRACK 43-75 kidney 1'  \n",
      "1                              b'C1-1772117-029-A02'  \n",
      "2                              b'C1-1772072-242-F03'  \n",
      "3                              b'20NNK_LPS_Sil_I3C9'  \n",
      "4  b'CSHL_RnaSeq_Cortex_adult-8wks (superseded by...  \n"
     ]
    }
   ],
   "source": [
    "print(table.head())"
   ]
  },
  {
   "cell_type": "code",
   "execution_count": 269,
   "id": "1d853f2e-c637-4805-98d2-8032ae9d6b02",
   "metadata": {},
   "outputs": [
    {
     "name": "stdout",
     "output_type": "stream",
     "text": [
      "GSM1849922\n"
     ]
    }
   ],
   "source": [
    "print(geo_accession[28].decode(\"utf-8\"))"
   ]
  },
  {
   "cell_type": "markdown",
   "id": "06d19b29-34ef-4c26-83d6-c142f16eb08e",
   "metadata": {},
   "source": [
    "Let's delete rows with words - single cell in a column 'source_name_ch1'"
   ]
  },
  {
   "cell_type": "code",
   "execution_count": 303,
   "id": "56f27395-032f-41c3-ab13-8e3790441fe1",
   "metadata": {},
   "outputs": [],
   "source": [
    "df = pd.read_csv('table.csv') # read table into pandas dataframe\n",
    "discard=[\"single cell\"]\n",
    "del_single=df[~df.source_name_ch1.str.contains('|'.join(discard))] # ~ - все, кроме того что дальше - после нее\n",
    "del_single.to_csv('del_single.csv')"
   ]
  },
  {
   "cell_type": "code",
   "execution_count": 304,
   "id": "a261900f-1af7-42c9-9f59-41ae13c46487",
   "metadata": {},
   "outputs": [
    {
     "name": "stdout",
     "output_type": "stream",
     "text": [
      "501054\n",
      "  taxid_ch1                    status     source_name_ch1  \\\n",
      "0  b'10090'  b'Public on Apr 07 2015'    b'kidney cortex'   \n",
      "1  b'10090'  b'Public on Jun 10 2016'  b'corpus callosum'   \n",
      "2  b'10090'  b'Public on Jun 10 2016'      b'dorsal horn'   \n",
      "3  b'10090'  b'Public on Jan 01 2016'      b'Lung tissue'   \n",
      "4  b'10090'  b'Public on Sep 10 2012'           b'Cortex'   \n",
      "\n",
      "                         series_id  \\\n",
      "0                      b'GSE54390'   \n",
      "1                      b'GSE75330'   \n",
      "2                      b'GSE75330'   \n",
      "3                      b'GSE64027'   \n",
      "4  b'GSE36025\\tGSE49417\\tGSE49847'   \n",
      "\n",
      "                                            relation  readstotal  \\\n",
      "0  b'BioSample: https://www.ncbi.nlm.nih.gov/bios...    39116064   \n",
      "1  b'BioSample: https://www.ncbi.nlm.nih.gov/bios...     1136541   \n",
      "2  b'BioSample: https://www.ncbi.nlm.nih.gov/bios...      514285   \n",
      "3  b'BioSample: https://www.ncbi.nlm.nih.gov/bios...    26804780   \n",
      "4  b'Reanalyzed by: GSE80797\\tSuperseded by: GSE9...   265978941   \n",
      "\n",
      "   readsaligned platform_id     organism_ch1  molecule_ch1 library_strategy  \\\n",
      "0      32884497    GPL13112  b'Mus musculus'  b'total RNA'       b'RNA-Seq'   \n",
      "1        308433    GPL13112  b'Mus musculus'  b'polyA RNA'       b'RNA-Seq'   \n",
      "2        148668    GPL13112  b'Mus musculus'  b'polyA RNA'       b'RNA-Seq'   \n",
      "3      23355974    GPL13112  b'Mus musculus'  b'total RNA'       b'RNA-Seq'   \n",
      "4     173619445    GPL13112  b'Mus musculus'  b'polyA RNA'       b'RNA-Seq'   \n",
      "\n",
      "  library_selection     library_source        instrument_model  \\\n",
      "0           b'cDNA'  b'transcriptomic'  b'Illumina HiSeq 2000'   \n",
      "1           b'cDNA'  b'transcriptomic'  b'Illumina HiSeq 2000'   \n",
      "2           b'cDNA'  b'transcriptomic'  b'Illumina HiSeq 2000'   \n",
      "3           b'cDNA'  b'transcriptomic'  b'Illumina HiSeq 2000'   \n",
      "4           b'cDNA'  b'transcriptomic'  b'Illumina HiSeq 2000'   \n",
      "\n",
      "                                extract_protocol_ch1  \\\n",
      "0  b'Thin outer slice of kidney cortex was immedi...   \n",
      "1  b\"Selected CNS regions were dissected in 300\\x...   \n",
      "2  b\"Selected CNS regions were dissected in 300\\x...   \n",
      "3  b\"Total RNA was extracted from pooled dissecte...   \n",
      "4  b'http://genome.ucsc.edu/cgi-bin/hgTrackUi?db=...   \n",
      "\n",
      "                                 characteristics_ch1  \\\n",
      "0  b'tissue: kidney cortex\\tstrain: C57BL/6\\tgend...   \n",
      "1  b'strain: PDGFRa-Cre\\tage: p61\\tSex: M\\ttreatm...   \n",
      "2  b'strain: C57BL6\\tage: p24\\tSex: ?\\ttreatment:...   \n",
      "3  b'strain: A/J\\tSex: female\\ttissue: Lung\\ttime...   \n",
      "4  b'lab: CSHL-m\\tlab description: Gingeras - Col...   \n",
      "\n",
      "                                     data_processing geo_accession    type  \\\n",
      "0  b'Reads were aligned to the genome using the B...    GSM1314260  b'SRA'   \n",
      "1  b'Read processing was performed as described (...    GSM2164318  b'SRA'   \n",
      "2  b'Read processing was performed as described (...    GSM2161048  b'SRA'   \n",
      "3  b'Illumina Casava1.8 software used for basecal...    GSM1563082  b'SRA'   \n",
      "4  b'http://genome.ucsc.edu/cgi-bin/hgTrackUi?db=...    GSM1000563  b'SRA'   \n",
      "\n",
      "                                               title  \n",
      "0                            b'TRACK 43-75 kidney 1'  \n",
      "1                              b'C1-1772117-029-A02'  \n",
      "2                              b'C1-1772072-242-F03'  \n",
      "3                              b'20NNK_LPS_Sil_I3C9'  \n",
      "4  b'CSHL_RnaSeq_Cortex_adult-8wks (superseded by...  \n"
     ]
    }
   ],
   "source": [
    "print(len(df))\n",
    "print(table.head())"
   ]
  },
  {
   "cell_type": "markdown",
   "id": "b7ae37cf-fb4a-4b6d-8ad3-7280d54a7e9d",
   "metadata": {},
   "source": [
    "Create a table with only immune cells"
   ]
  },
  {
   "cell_type": "code",
   "execution_count": 305,
   "id": "68d8e482-43d5-49a4-b27d-5e3924133768",
   "metadata": {},
   "outputs": [],
   "source": [
    "df=pd.read_csv('del_single.csv')\n",
    "immune_cell= df[df['source_name_ch1'].str.contains('Innate lymphoid cell|CD8|CD4|macrophage|microglia|Th17|T cell|B cell', case=False)] # можно усложнить до регулярного выражения !\n",
    "\n",
    "immune_cell.to_csv('immune_cell.csv')"
   ]
  },
  {
   "cell_type": "markdown",
   "id": "128d2b54-491b-4e85-8682-484f35b91aa1",
   "metadata": {},
   "source": [
    "Create a table with uniqe values by cell type"
   ]
  },
  {
   "cell_type": "code",
   "execution_count": 306,
   "id": "a136bb32-eb33-46ec-b637-3315bd7ea415",
   "metadata": {},
   "outputs": [],
   "source": [
    "df = pd.read_csv('del_single.csv')\n",
    "cell_count=df.groupby('source_name_ch1')['platform_id'].value_counts() #count on two column basis\n",
    "#cell_count=df['source_name_ch1'].value_counts() #create a table with count of uniq cell types\n",
    "cell_count.to_csv('cell_count.csv') # put table into file .csv"
   ]
  },
  {
   "cell_type": "markdown",
   "id": "36031c8e-1280-46fd-8987-ec6201e522ea",
   "metadata": {},
   "source": [
    "Create a table with uniqe values by platform id"
   ]
  },
  {
   "cell_type": "code",
   "execution_count": 307,
   "id": "745342ec-b7fd-4640-91fb-8a4b36489564",
   "metadata": {},
   "outputs": [],
   "source": [
    "df = pd.read_csv('del_single.csv')\n",
    "platform_count=df.groupby('platform_id')['source_name_ch1'].value_counts() #count on two column basis\n",
    "#cell_count=df['source_name_ch1'].value_counts() #create a table with count of uniq cell types\n",
    "platform_count.to_csv('platform_count.csv') # put table into file .csv"
   ]
  },
  {
   "cell_type": "markdown",
   "id": "dbfa3a85-84bd-49b5-94e0-b692faac88bb",
   "metadata": {},
   "source": [
    "Create a table with uniqe values by cell type - only immune cells"
   ]
  },
  {
   "cell_type": "code",
   "execution_count": 308,
   "id": "3673be56-e88e-48ff-9fc0-ac23be219ffb",
   "metadata": {},
   "outputs": [],
   "source": [
    "df = pd.read_csv('immune_cell.csv')\n",
    "cell_count=df.groupby('source_name_ch1')['platform_id'].value_counts() #count on two column basis\n",
    "#cell_count=df['source_name_ch1'].value_counts() #create a table with count of uniq cell types\n",
    "cell_count.to_csv('cell_count2.csv') # put table into file .csv"
   ]
  },
  {
   "cell_type": "markdown",
   "id": "9bd32bd0-1342-4694-9971-5ab4d12ed48d",
   "metadata": {},
   "source": [
    "Create a table with uniqe values by platform id - only immune cells"
   ]
  },
  {
   "cell_type": "code",
   "execution_count": 309,
   "id": "bb2bb2de-68a5-42a3-8be1-206bd47721a6",
   "metadata": {},
   "outputs": [],
   "source": [
    "df = pd.read_csv('immune_cell.csv')\n",
    "platform_count=df.groupby('platform_id')['source_name_ch1'].value_counts() #count on two column basis\n",
    "#cell_count=df['source_name_ch1'].value_counts() #create a table with count of uniq cell types\n",
    "platform_count.to_csv('platform_count2.csv') # put table into file .csv"
   ]
  },
  {
   "cell_type": "markdown",
   "id": "f31ac6e6-1e8c-49ef-bf2f-3e3e66a04b19",
   "metadata": {},
   "source": [
    "Let's change the last table. Remove very small values, type of cells into rows, platform id into columns\n"
   ]
  },
  {
   "cell_type": "code",
   "execution_count": 310,
   "id": "8c01bcbd-5ab0-46c1-acc6-31ed6efe7294",
   "metadata": {},
   "outputs": [],
   "source": [
    "df= pd.read_csv('platform_count2.csv')\n",
    "df.columns=['platform_id', 'source_name_ch1', 'counter'] # rename the columns heads\n",
    "df=df[df.counter>10] # delete the values less than 10\n",
    "table = pd.pivot_table(df, values='counter', index=['source_name_ch1'], columns=['platform_id'], aggfunc=np.sum) #create a table with platfom_id in columns\n",
    "table.to_csv('platform_count3.csv') # put table into file .csv"
   ]
  },
  {
   "cell_type": "code",
   "execution_count": 14,
   "id": "82e4aa4d-c0a3-4357-a136-91f266c02ded",
   "metadata": {},
   "outputs": [],
   "source": [
    "df = pd.read_csv('del_single.csv')\n"
   ]
  },
  {
   "cell_type": "markdown",
   "id": "3b375ec5-a7a7-4bb8-8238-8d5f281dbc62",
   "metadata": {},
   "source": [
    "Create a table with needing columns - макрофаги\n",
    "air_quality = pd.concat([air_quality_pm25, air_quality_no2], axis=0) - сложение таблиц"
   ]
  },
  {
   "cell_type": "code",
   "execution_count": 15,
   "id": "e2984b96-5e86-42a1-be8a-0fb153c31686",
   "metadata": {},
   "outputs": [],
   "source": [
    "wf = df[['geo_accession', 'platform_id', 'source_name_ch1']] #wf - working frame\n",
    "macrophage= wf[wf['source_name_ch1'].str.contains('macrophage|macrophages', case=False)]\n",
    "macrophage.insert(2, \"Cell_type\", 'macrophage')\n",
    "conditions = [\n",
    "    (macrophage['source_name_ch1'].str.contains('[B,m]one[-,\\s]marrow', case=False, regex=True)),\n",
    "    (macrophage['source_name_ch1'].str.contains('Peritoneal', case=False)),\n",
    "    (macrophage['source_name_ch1'].str.contains('Alveolar|lung', case=False)),\n",
    "    (macrophage['source_name_ch1'].str.contains('tumor|tumour', case=False)),\n",
    "    (macrophage['source_name_ch1'].str.contains('Splenic', case=False)),\n",
    "    (macrophage['source_name_ch1'].str.contains('hepatic', case=False)),\n",
    "    (macrophage['source_name_ch1'].str.contains('sciatic nerve', case=False)),\n",
    "    (macrophage['source_name_ch1'].str.contains('Phagocytic', case=False)),\n",
    "    (macrophage['source_name_ch1'].str.contains('Peripheral', case=False)),\n",
    "    (macrophage['source_name_ch1'].str.contains('muscle', case=False)),\n",
    "    (macrophage['source_name_ch1'].str.contains('1 day after TBI', case=False)),\n",
    "    (~macrophage['source_name_ch1'].str.contains('[B,m]one[-,\\s]marrow|Peritoneal|Alveolar|tumor|tumour|Splenic|lung|hepatic|sciatic nerve|Phagocytic|Peripheral|muscle|1 day after TBI' , case=False))\n",
    "]\n",
    "\n",
    "values = ['Bone Marrow Derived macrophages', 'Peritoneal macrophage', 'Alveolar macrophage', 'tumor macrophage','Splenic macrophages','hepatic macrophages', 'sciatic nerve macrophages','Phagocytic macrophages', 'Peripheral macrophages','muscle macrophages','1 day after TBI macrophages', 'other macrophage']\n",
    "macrophage.insert(3, \"Classes\", np.select(conditions, values))\n",
    "macrophage.to_csv('macrophage.csv')\n"
   ]
  },
  {
   "cell_type": "code",
   "execution_count": 16,
   "id": "a627869d-256c-48d0-9d01-9f4ecc878327",
   "metadata": {},
   "outputs": [],
   "source": [
    "wf = df[['geo_accession', 'platform_id', 'source_name_ch1']] #wf - working frame\n",
    "T_cells= wf[wf['source_name_ch1'].str.contains('/sT[-,\\s)]cell[\\s,s]|\\sCD8[+,\\s][\\s]|[\\s]CD4[+,\\s][\\s]', case=False)]\n",
    "T_cells.insert(2, \"Cell_type\", 'T_cells')\n",
    "conditions = [\n",
    "    (T_cells['source_name_ch1'].str.contains('[\\s]CD8[+,\\s][\\s]',case=False, regex=True)),\n",
    "    (T_cells['source_name_ch1'].str.contains('[\\s]CD4[+,\\s][\\s]',case=False, regex=True)),\n",
    "    (T_cells['source_name_ch1'].str.contains('YFP+', case=False, regex=True)),\n",
    "    (T_cells['source_name_ch1'].str.contains('V\\xce\\xb34', case=False)),\n",
    "    (T_cells['source_name_ch1'].str.contains('Tumor-infiltrating', case=False)),\n",
    "    (T_cells['source_name_ch1'].str.contains('Thymus|Thymic', case=False)),\n",
    "    (T_cells['source_name_ch1'].str.contains('Splenic|spleen', case=False)),\n",
    "    (~T_cells['source_name_ch1'].str.contains('[\\s]CD8[+,\\s]|[\\s]CD4[+,\\s][\\s]|YFP+|V\\xce\\xb34|Tumor-infiltrating|Thymus|Thymic|Splenic|spleen', case=False, regex=True))\n",
    "]\n",
    "values = ['CD8+ T cells', 'CD4+ T cells', 'YFP+ T cells','V\\xce\\xb34 T cell', 'Tumor-infiltrating T cells', 'Thymus T cells', 'Splenic T cells', 'other T cells']\n",
    "T_cells.insert(3, \"Classes\", np.select(conditions, values))\n",
    "T_cells.to_csv('T_cells.csv')"
   ]
  },
  {
   "cell_type": "code",
   "execution_count": 17,
   "id": "24c4aa7e-aec0-4ae1-90c2-c01218c1d9f9",
   "metadata": {},
   "outputs": [],
   "source": [
    "wf = df[['geo_accession', 'platform_id', 'source_name_ch1']] #wf - working frame\n",
    "B_cells= wf[wf['source_name_ch1'].str.contains('[\\s]B[-, \\s]cell[s,\\s]', case=False, regex=True)]\n",
    "B_cells.insert(2, \"Cell_type\", 'B_cells')\n",
    "conditions = [\n",
    "    (B_cells['source_name_ch1'].str.contains('splenic|from spleen|spleenic',case=False, regex=True)),\n",
    "    (B_cells['source_name_ch1'].str.contains('Germinal center',case=False, regex=True)),\n",
    "    (B_cells['source_name_ch1'].str.contains('Marginal zone' , case=False, regex=True)),\n",
    "    (B_cells['source_name_ch1'].str.contains('Follicular|folicular' , case=False, regex=True)),\n",
    "    (B_cells['source_name_ch1'].str.contains('B220+' , case=False, regex=True)),\n",
    "    (B_cells['source_name_ch1'].str.contains('Primary' , case=False, regex=True)),\n",
    "    (B_cells['source_name_ch1'].str.contains('NP+ GC', case=False, regex=True)),\n",
    "    (B_cells['source_name_ch1'].str.contains('immature', case=False, regex=True)),\n",
    "    (B_cells['source_name_ch1'].str.contains('CH12 ', case=False, regex=True)),\n",
    "    (B_cells['source_name_ch1'].str.contains('CD19+', case=False, regex=True)),\n",
    "    (~B_cells['source_name_ch1'].str.contains('splenic|from spleen|spleenic|Germinal center|Marginal zone|Follicular|folicular|B220+|primary|NP+ GC|immature|CH12|CD19+ ' , case=False, regex=True))\n",
    "\n",
    "]\n",
    "values = ['splenic B cells', 'Germinal center B cells', 'Marginal zone B cells', 'Follicular B cells', 'B220+ B cells','Primary B cells','NP+ GC B cells','Immature B cells','CH12 line','CD19+ B cells', 'other B-cells']\n",
    "B_cells.insert(3, \"Classes\", np.select(conditions, values))\n",
    "B_cells.to_csv('B_cells.csv')"
   ]
  },
  {
   "cell_type": "code",
   "execution_count": 18,
   "id": "f34596b3-eb47-4736-bf3c-e89f855c402c",
   "metadata": {},
   "outputs": [],
   "source": [
    "B_cells=pd.read_csv('B_cells.csv')\n",
    "T_cells=pd.read_csv('T_cells.csv')\n",
    "macrophage=pd.read_csv('macrophage.csv')\n",
    "great_table = pd.concat([B_cells, T_cells, macrophage], axis=0)\n",
    "great_table.to_csv('great_table.csv')"
   ]
  },
  {
   "cell_type": "markdown",
   "id": "87e8c858-07e5-45f0-b1ce-b12ab9b961bf",
   "metadata": {},
   "source": [
    "get indicis of lines with geo accession\n",
    "indices[i]=indices[i-1] можно так "
   ]
  },
  {
   "cell_type": "code",
   "execution_count": 19,
   "id": "5ef4c89b-ea6f-49d4-9b56-57bfdd223d00",
   "metadata": {},
   "outputs": [],
   "source": [
    "great_table=pd.read_csv('great_table.csv')\n",
    "df = pd.read_csv('table.csv')\n",
    "res=df[df.geo_accession.isin(great_table.geo_accession)].reset_index(drop=False)\n",
    "indices=res['index']\n",
    "indices2=[]\n",
    "for i in indices:\n",
    "    f=i\n",
    "    indices2.append(f)"
   ]
  },
  {
   "cell_type": "code",
   "execution_count": 317,
   "id": "fc334f64-4252-4156-8e19-a00d4d053c35",
   "metadata": {},
   "outputs": [
    {
     "name": "stdout",
     "output_type": "stream",
     "text": [
      "9410\n",
      "9410\n"
     ]
    }
   ],
   "source": [
    "print(len(great_table))\n",
    "print(len(indices))"
   ]
  },
  {
   "cell_type": "markdown",
   "id": "2a441211-516b-4722-818c-608bf2ffa3ed",
   "metadata": {},
   "source": [
    "create an expression table\n",
    "'''\n",
    "'''\n",
    "with h5py.File('mouse_matrix_v11.h5', 'r') as f:\n",
    "   data_set = f['data']['expression']\n",
    "   data=data_set[::,indices2]\n",
    "   expression = pd.DataFrame(data, columns=indices2)\n",
    "   expression.to_csv('expression.csv')\n",
    "   f.close()"
   ]
  },
  {
   "cell_type": "code",
   "execution_count": 318,
   "id": "9da6a342-937f-4fa0-9b15-351408ce42d7",
   "metadata": {},
   "outputs": [],
   "source": [
    "with h5py.File('mouse_matrix_v11.h5', 'r') as f:\n",
    "   data_set = f['data']['expression']\n",
    "   data=data_set[::,indices2]\n",
    "   expression = pd.DataFrame(data, columns=indices)\n",
    "   expression.to_csv('expression3.csv')\n",
    "   f.close()"
   ]
  },
  {
   "cell_type": "code",
   "execution_count": 319,
   "id": "2674247b-34bd-476a-b45d-a26717581e9a",
   "metadata": {},
   "outputs": [
    {
     "name": "stdout",
     "output_type": "stream",
     "text": [
      "32544\n",
      "9410\n"
     ]
    }
   ],
   "source": [
    "print(len(expression))\n",
    "print(expression.shape[1])"
   ]
  },
  {
   "cell_type": "markdown",
   "id": "8018cb76-d894-4ce3-949c-a401085da34e",
   "metadata": {},
   "source": [
    "Удалим из большой таблицы все буквы б из всех строк таблицы\n"
   ]
  },
  {
   "cell_type": "code",
   "execution_count": 235,
   "id": "fb544824-a17c-4822-959a-feff36d0298a",
   "metadata": {},
   "outputs": [],
   "source": [
    "```\n",
    "#df = pd.read_csv('great_table.csv')  \n",
    "#df = df.replace(to_replace =\"[b']\", value = '', regex = True)\n",
    "#df.to_csv('great_table2.csv')     \n",
    "#df = pd.read_csv('table.csv')  \n",
    "#df = df.replace(to_replace =\"[b']\", value = '', regex = True)\n",
    "#df.to_csv('table.csv')    \n",
    "```"
   ]
  },
  {
   "cell_type": "markdown",
   "id": "733d26e0-6b6c-4163-803f-9c9004610bc7",
   "metadata": {},
   "source": [
    "Заменим индексы колонок в таблице экспрессии на gsm\n",
    "GSM1849922 - должно быть в позиции 28 - и это верно"
   ]
  },
  {
   "cell_type": "code",
   "execution_count": 320,
   "id": "bd6ed0cd-4e50-4b8e-89ab-3dae76c23578",
   "metadata": {},
   "outputs": [
    {
     "name": "stdout",
     "output_type": "stream",
     "text": [
      "geo_accession  GSM1356226  GSM1849922  GSM1897413  GSM1262088  GSM1119597  \\\n",
      "0                    3228        1274         114         810         440   \n",
      "1                    1185         437          12          56         151   \n",
      "2                     114          35          21          11         138   \n",
      "3                    3548        3126          95         520         254   \n",
      "4                    4075        1033          40         157         465   \n",
      "\n",
      "geo_accession  GSM1533925  GSM1511235  GSM1808311  GSM1823626  GSM1713923  \\\n",
      "0                     117         500        1425         326        1121   \n",
      "1                      78         136         757         237         200   \n",
      "2                       4          46         101          15          44   \n",
      "3                     112        1954        1063         558        1140   \n",
      "4                     261          54        1834         948         441   \n",
      "\n",
      "geo_accession  ...  GSM5550906  GSM5550908  GSM5550909  GSM5558220  \\\n",
      "0              ...        1629        1079         839         372   \n",
      "1              ...        1570         966        1878         328   \n",
      "2              ...         155          72         107          44   \n",
      "3              ...        1304         882         928         395   \n",
      "4              ...        3095        1666        2484         494   \n",
      "\n",
      "geo_accession  GSM5558221  GSM5558224  GSM5558226  GSM5560174  GSM5560175  \\\n",
      "0                     446         380         364         926         799   \n",
      "1                     295         245         251         301         327   \n",
      "2                      24          24          17           5           3   \n",
      "3                     372         278         253         265         230   \n",
      "4                     838         600         709         726         751   \n",
      "\n",
      "geo_accession  GSM5560176  \n",
      "0                     562  \n",
      "1                     153  \n",
      "2                       9  \n",
      "3                     105  \n",
      "4                     581  \n",
      "\n",
      "[5 rows x 9410 columns]\n"
     ]
    }
   ],
   "source": [
    "wf=pd.read_csv('table.csv')\n",
    "#df.drop(df.columns[[0]], axis = 1)\n",
    "expression.columns = wf.loc[indices]['geo_accession']\n",
    "print(expression.head())\n",
    "expression.to_csv('expression4.csv')   "
   ]
  },
  {
   "cell_type": "code",
   "execution_count": 321,
   "id": "4428c0a2-00ab-4792-bb96-e652d6fe646d",
   "metadata": {},
   "outputs": [
    {
     "name": "stdout",
     "output_type": "stream",
     "text": [
      "0    19\n",
      "1    28\n",
      "2    39\n",
      "3    65\n",
      "4    77\n",
      "Name: index, dtype: int64\n",
      "[19, 28, 39, 65, 77]\n"
     ]
    }
   ],
   "source": [
    "print(indices.head())\n",
    "print(indices2[0:5])"
   ]
  },
  {
   "cell_type": "code",
   "execution_count": 322,
   "id": "805d4e0e-e4dc-4662-8a23-3a4430ea42f2",
   "metadata": {},
   "outputs": [
    {
     "name": "stdout",
     "output_type": "stream",
     "text": [
      "Unnamed: 0                                                             28\n",
      "taxid_ch1                                                        b'10090'\n",
      "status                                           b'Public on Jul 15 2016'\n",
      "source_name_ch1                                            b'Pro B cells'\n",
      "series_id                                           b'GSE72018\\tGSE72019'\n",
      "relation                b'BioSample: https://www.ncbi.nlm.nih.gov/bios...\n",
      "readstotal                                                       50911147\n",
      "readsaligned                                                     45076587\n",
      "platform_id                                                      GPL13112\n",
      "organism_ch1                                              b'Mus musculus'\n",
      "molecule_ch1                                                 b'total RNA'\n",
      "library_strategy                                               b'RNA-Seq'\n",
      "library_selection                                                 b'cDNA'\n",
      "library_source                                          b'transcriptomic'\n",
      "instrument_model                                   b'Illumina HiSeq 2000'\n",
      "extract_protocol_ch1    b\"Female mouse C57BL/6 B cell populations were...\n",
      "characteristics_ch1     b'strain: C57BL/6JNimr\\ttissue: Bone marrow\\ta...\n",
      "data_processing         b'fastq files were created with CASAVA 1.8.1\\t...\n",
      "geo_accession                                                  GSM1849922\n",
      "type                                                               b'SRA'\n",
      "title                                                     b'Bcell-pro-R5'\n",
      "Name: 28, dtype: object\n"
     ]
    }
   ],
   "source": [
    "df = pd.read_csv('table.csv')  \n",
    "print(df.iloc[28])\n"
   ]
  },
  {
   "cell_type": "markdown",
   "id": "a2c2eb8c-23f1-4cd8-9e1e-f27d5fcc60a1",
   "metadata": {},
   "source": [
    "Теперь строки в таблице с экспрессией номер 4 нужно заменить названия строк на гены - indices 2"
   ]
  },
  {
   "cell_type": "code",
   "execution_count": 323,
   "id": "e1c7d8e1-e4bd-4281-8666-0f9335d063ec",
   "metadata": {},
   "outputs": [
    {
     "name": "stdout",
     "output_type": "stream",
     "text": [
      "                  0\n",
      "0  b'0610007P14Rik'\n",
      "1  b'0610009B22Rik'\n",
      "2  b'0610009L18Rik'\n",
      "3  b'0610009O20Rik'\n",
      "4  b'0610010F05Rik'\n",
      "                       0\n",
      "0             b'missing'\n",
      "1  b'ENSMUSG00000007777'\n",
      "2  b'ENSMUSG00000043644'\n",
      "3             b'missing'\n",
      "4  b'ENSMUSG00000042208'\n",
      "32544\n",
      "32544\n"
     ]
    }
   ],
   "source": [
    "with h5py.File('mouse_matrix_v11.h5', 'r') as f:\n",
    "   data_set = f['meta']['genes']['genes']\n",
    "   data=data_set[::]\n",
    "   names_lines = pd.DataFrame(data)\n",
    "   ensembl_set=f['meta']['genes']['ensembl_gene_id']\n",
    "   ensembl=ensembl_set[::]\n",
    "   ensemble = pd.DataFrame(ensembl)    \n",
    "   f.close()\n",
    "print(names_lines.head())\n",
    "print(ensemble.head())\n",
    "print(len(ensemble))\n",
    "print(len(names_lines))\n"
   ]
  },
  {
   "cell_type": "code",
   "execution_count": 324,
   "id": "51c49ab1-d483-4145-9471-d097af3c3ccd",
   "metadata": {},
   "outputs": [
    {
     "name": "stdout",
     "output_type": "stream",
     "text": [
      "                       0                 0  GSM1356226  GSM1849922  \\\n",
      "0             b'missing'  b'0610007P14Rik'        3228        1274   \n",
      "1  b'ENSMUSG00000007777'  b'0610009B22Rik'        1185         437   \n",
      "2  b'ENSMUSG00000043644'  b'0610009L18Rik'         114          35   \n",
      "3             b'missing'  b'0610009O20Rik'        3548        3126   \n",
      "4  b'ENSMUSG00000042208'  b'0610010F05Rik'        4075        1033   \n",
      "\n",
      "   GSM1897413  GSM1262088  GSM1119597  GSM1533925  GSM1511235  GSM1808311  \\\n",
      "0         114         810         440         117         500        1425   \n",
      "1          12          56         151          78         136         757   \n",
      "2          21          11         138           4          46         101   \n",
      "3          95         520         254         112        1954        1063   \n",
      "4          40         157         465         261          54        1834   \n",
      "\n",
      "   ...  GSM5550906  GSM5550908  GSM5550909  GSM5558220  GSM5558221  \\\n",
      "0  ...        1629        1079         839         372         446   \n",
      "1  ...        1570         966        1878         328         295   \n",
      "2  ...         155          72         107          44          24   \n",
      "3  ...        1304         882         928         395         372   \n",
      "4  ...        3095        1666        2484         494         838   \n",
      "\n",
      "   GSM5558224  GSM5558226  GSM5560174  GSM5560175  GSM5560176  \n",
      "0         380         364         926         799         562  \n",
      "1         245         251         301         327         153  \n",
      "2          24          17           5           3           9  \n",
      "3         278         253         265         230         105  \n",
      "4         600         709         726         751         581  \n",
      "\n",
      "[5 rows x 9412 columns]\n"
     ]
    }
   ],
   "source": [
    "expression=pd.read_csv('expression4.csv')\n",
    "expression2 = pd.concat([ensemble, names_lines, expression], axis=1)\n",
    "expression2.pop('Unnamed: 0')\n",
    "expression2.to_csv('expression5.csv')   \n",
    "print(expression2.head())\n"
   ]
  },
  {
   "cell_type": "code",
   "execution_count": 20,
   "id": "ce4d5e56-1aa1-460e-aca7-1621b6153e64",
   "metadata": {},
   "outputs": [],
   "source": [
    "d = pd.read_csv('great_table.csv')  \n",
    "d = d.replace(to_replace =\"[b']\", value = '', regex = True)\n",
    "d.to_csv('great_table2.csv')    \n",
    "f = pd.read_csv('expression5.csv')  \n",
    "f.pop('Unnamed: 0')\n",
    "f.rename(columns={'0': \"ensemble\", '0.1': \"symbol\"}, inplace=True)\n",
    "f.to_csv('expression6.csv')   \n"
   ]
  },
  {
   "cell_type": "code",
   "execution_count": 326,
   "id": "874a73be-1430-4d8b-a367-67b30da4ea97",
   "metadata": {},
   "outputs": [
    {
     "name": "stdout",
     "output_type": "stream",
     "text": [
      "   Unnamed: 0.1  Unnamed: 0 geo_accession platform_id Cell type  \\\n",
      "0             0          28    GSM1849922    GPL13112   B_cells   \n",
      "1             1          38    GSM1897413    GPL13112   B_cells   \n",
      "2             2         334    GSM1849954    GPL13112   B_cells   \n",
      "3             3         341    GSM1229014    GPL13112   B_cells   \n",
      "4             4         570    GSM1234739    GPL13112   B_cells   \n",
      "\n",
      "              Classes     source_name_ch1  \n",
      "0       other B-cells         Pro B cells  \n",
      "1  Follicular B cells  Follicular B cells  \n",
      "2       other B-cells         B1A B cells  \n",
      "3       other B-cells     Dnmt-KO B-Cells  \n",
      "4     Primary B cells     Primary B-cells  \n"
     ]
    }
   ],
   "source": [
    "print(d.head())"
   ]
  },
  {
   "cell_type": "code",
   "execution_count": 327,
   "id": "84bc80fa-beb4-4d81-bd47-8347aa5b4c64",
   "metadata": {},
   "outputs": [
    {
     "name": "stdout",
     "output_type": "stream",
     "text": [
      "             ensemble         symbol  GSM1356226  GSM1849922  GSM1897413  \\\n",
      "0             missing  0610007P14Rik        3228        1274         114   \n",
      "1  ENSMUSG00000007777  0610009B22Rik        1185         437          12   \n",
      "2  ENSMUSG00000043644  0610009L18Rik         114          35          21   \n",
      "3             missing  0610009O20Rik        3548        3126          95   \n",
      "4  ENSMUSG00000042208  0610010F05Rik        4075        1033          40   \n",
      "\n",
      "   GSM1262088  GSM1119597  GSM1533925  GSM1511235  GSM1808311  ...  \\\n",
      "0         810         440         117         500        1425  ...   \n",
      "1          56         151          78         136         757  ...   \n",
      "2          11         138           4          46         101  ...   \n",
      "3         520         254         112        1954        1063  ...   \n",
      "4         157         465         261          54        1834  ...   \n",
      "\n",
      "   GSM5550906  GSM5550908  GSM5550909  GSM5558220  GSM5558221  GSM5558224  \\\n",
      "0        1629        1079         839         372         446         380   \n",
      "1        1570         966        1878         328         295         245   \n",
      "2         155          72         107          44          24          24   \n",
      "3        1304         882         928         395         372         278   \n",
      "4        3095        1666        2484         494         838         600   \n",
      "\n",
      "   GSM5558226  GSM5560174  GSM5560175  GSM5560176  \n",
      "0         364         926         799         562  \n",
      "1         251         301         327         153  \n",
      "2          17           5           3           9  \n",
      "3         253         265         230         105  \n",
      "4         709         726         751         581  \n",
      "\n",
      "[5 rows x 9412 columns]\n"
     ]
    }
   ],
   "source": [
    "\n",
    "print(f.head())"
   ]
  },
  {
   "cell_type": "markdown",
   "id": "8ad089ab-7692-4cc4-9e3a-4c692d0c51f2",
   "metadata": {},
   "source": [
    " ### Создать таблицу - перечение с той что пришлют"
   ]
  },
  {
   "cell_type": "code",
   "execution_count": 20,
   "id": "b36504da-9b06-4c88-acc3-4ec528df1420",
   "metadata": {},
   "outputs": [
    {
     "name": "stdout",
     "output_type": "stream",
     "text": [
      "   GSM4042993  GSM4042994  GSM4042995  GSM4042996  GSM4042997  GSM4042998  \\\n",
      "0           0           0           0           0           0           0   \n",
      "1           0           0           0           0           0           0   \n",
      "2           0           0           0           0           0           0   \n",
      "3           0           0           0           0           0           0   \n",
      "4           0           0           0           0           0           0   \n",
      "\n",
      "   GSM4042999  GSM4043000  GSM4043001  GSM4043002  ...  GSM1234735  \\\n",
      "0           0           0           0           0  ...           0   \n",
      "1           0           0           0           0  ...           1   \n",
      "2           0           0           0           0  ...           0   \n",
      "3           0           1           0           0  ...           0   \n",
      "4           0           0           0           0  ...           0   \n",
      "\n",
      "   GSM1234736  GSM1234737  GSM1234738  GSM1234739  GSM1234740  GSM1234741  \\\n",
      "0           0           0           0           0           0           0   \n",
      "1           0           0           0           0           0           0   \n",
      "2           6           0           1           0           0           2   \n",
      "3           0           0           0           0           0           0   \n",
      "4           0           0           1           0           0           0   \n",
      "\n",
      "   GSM1234742  GSM1234743  GSM1234744  \n",
      "0           0           0           0  \n",
      "1           0           1           0  \n",
      "2           0           0           3  \n",
      "3           0           0           0  \n",
      "4           0           0           1  \n",
      "\n",
      "[5 rows x 5558 columns]\n"
     ]
    }
   ],
   "source": [
    "dee2_exp=pd.read_csv('dee2_exp.csv')\n",
    "print(dee2_exp.head())"
   ]
  },
  {
   "cell_type": "code",
   "execution_count": 359,
   "id": "59831d09-916b-4da6-b353-40262a2565bc",
   "metadata": {},
   "outputs": [
    {
     "name": "stdout",
     "output_type": "stream",
     "text": [
      "             ensemble         symbol\n",
      "0  ENSMUSG00000102693  4933401J01Rik\n",
      "1  ENSMUSG00000064842        Gm26206\n",
      "2  ENSMUSG00000051951           Xkr4\n",
      "3  ENSMUSG00000102851        Gm18956\n",
      "4  ENSMUSG00000103377        Gm37180\n",
      "52636\n",
      "5558\n"
     ]
    }
   ],
   "source": [
    "dee2_genes=pd.read_csv('dee2_genes.csv')\n",
    "print(dee2_genes.head())\n",
    "print(dee2_genes.shape[0])\n",
    "print(dee2_exp.shape[1])"
   ]
  },
  {
   "cell_type": "code",
   "execution_count": 22,
   "id": "4593db8f-9c86-443d-aec3-a066866e8cd3",
   "metadata": {},
   "outputs": [
    {
     "name": "stdout",
     "output_type": "stream",
     "text": [
      "             ensemble         symbol  GSM4042993  GSM4042994  GSM4042995  \\\n",
      "0  ENSMUSG00000102693  4933401J01Rik           0           0           0   \n",
      "1  ENSMUSG00000064842        Gm26206           0           0           0   \n",
      "2  ENSMUSG00000051951           Xkr4           0           0           0   \n",
      "3  ENSMUSG00000102851        Gm18956           0           0           0   \n",
      "4  ENSMUSG00000103377        Gm37180           0           0           0   \n",
      "\n",
      "   GSM4042996  GSM4042997  GSM4042998  GSM4042999  GSM4043000  ...  \\\n",
      "0           0           0           0           0           0  ...   \n",
      "1           0           0           0           0           0  ...   \n",
      "2           0           0           0           0           0  ...   \n",
      "3           0           0           0           0           1  ...   \n",
      "4           0           0           0           0           0  ...   \n",
      "\n",
      "   GSM1234735  GSM1234736  GSM1234737  GSM1234738  GSM1234739  GSM1234740  \\\n",
      "0           0           0           0           0           0           0   \n",
      "1           1           0           0           0           0           0   \n",
      "2           0           6           0           1           0           0   \n",
      "3           0           0           0           0           0           0   \n",
      "4           0           0           0           1           0           0   \n",
      "\n",
      "   GSM1234741  GSM1234742  GSM1234743  GSM1234744  \n",
      "0           0           0           0           0  \n",
      "1           0           0           1           0  \n",
      "2           2           0           0           3  \n",
      "3           0           0           0           0  \n",
      "4           0           0           0           1  \n",
      "\n",
      "[5 rows x 5560 columns]\n"
     ]
    }
   ],
   "source": [
    "dee2 = pd.concat([dee2_genes, dee2_exp], axis=1)\n",
    "dee2.to_csv('dee.csv')   \n",
    "print(dee2.head())\n"
   ]
  },
  {
   "cell_type": "markdown",
   "id": "f6bb19de-bd7a-41cd-8580-1beeb9fdaaa9",
   "metadata": {},
   "source": [
    "#### Проведем сортировку"
   ]
  },
  {
   "cell_type": "code",
   "execution_count": 4,
   "id": "0af6d820-9f40-4785-bca1-d193d10ba0ad",
   "metadata": {},
   "outputs": [
    {
     "name": "stdout",
     "output_type": "stream",
     "text": [
      "                 ensemble symbol  GSM1356226  GSM1849922  GSM1897413  \\\n",
      "16843  ENSMUSG00000000001  Gnai3       17328        8597         507   \n",
      "23599  ENSMUSG00000000003    Psn           0           0           0   \n",
      "3402   ENSMUSG00000000028  Cdc45        1577        5479          27   \n",
      "26959  ENSMUSG00000000037  Scml2          16          86           0   \n",
      "1743   ENSMUSG00000000049   Apoh           1           0           0   \n",
      "\n",
      "       GSM1262088  GSM1119597  GSM1533925  GSM1511235  GSM1808311  ...  \\\n",
      "16843        6175         536        1079        7421       10601  ...   \n",
      "23599           0           0           0           0           0  ...   \n",
      "3402           53         293          14         187         512  ...   \n",
      "26959           7          50           0          10          32  ...   \n",
      "1743            0           0           0           0           0  ...   \n",
      "\n",
      "       GSM5550906  GSM5550908  GSM5550909  GSM5558220  GSM5558221  GSM5558224  \\\n",
      "16843       23609       13185       25213        2788        4192        3695   \n",
      "23599           0           0           0           0           0           0   \n",
      "3402         2540        1260         640         304         275         230   \n",
      "26959           7           0           0           0          10           9   \n",
      "1743            0           0           0           0           0           0   \n",
      "\n",
      "       GSM5558226  GSM5560174  GSM5560175  GSM5560176  \n",
      "16843        3538        6452        7118        6021  \n",
      "23599           0           0           0           0  \n",
      "3402          210        1156         947         399  \n",
      "26959           5          10           9          28  \n",
      "1743            3          11          14           0  \n",
      "\n",
      "[5 rows x 9412 columns]\n",
      "32544\n",
      "                 ensemble symbol  GSM4042993  GSM4042994  GSM4042995  \\\n",
      "11893  ENSMUSG00000000001  Gnai3        3962        3807        2487   \n",
      "8469   ENSMUSG00000000003   Pbsn           0           0           0   \n",
      "46315  ENSMUSG00000000028  Cdc45        1254        1209        1144   \n",
      "26622  ENSMUSG00000000031    H19         699         607         718   \n",
      "9726   ENSMUSG00000000037  Scml2           0           0           1   \n",
      "\n",
      "       GSM4042996  GSM4042997  GSM4042998  GSM4042999  GSM4043000  ...  \\\n",
      "11893        3122        3196        2420        5688        7300  ...   \n",
      "8469            0           0           0           0           0  ...   \n",
      "46315        1362        1310        1264        1109        1569  ...   \n",
      "26622         643         621         851          85         107  ...   \n",
      "9726            1           0           0           2           0  ...   \n",
      "\n",
      "       GSM1234735  GSM1234736  GSM1234737  GSM1234738  GSM1234739  GSM1234740  \\\n",
      "11893        4077        4671        7293        4627        5002        6381   \n",
      "8469            0           0           0           0           0           0   \n",
      "46315         331         302         495         842        1317        2981   \n",
      "26622           0           0           0           0           4          90   \n",
      "9726            2           4           8           5           7          21   \n",
      "\n",
      "       GSM1234741  GSM1234742  GSM1234743  GSM1234744  \n",
      "11893        8072        4725        3897        3205  \n",
      "8469            0           0           0           0  \n",
      "46315        3138        1849        2530        1409  \n",
      "26622           6          80           3           1  \n",
      "9726           15           0           1           1  \n",
      "\n",
      "[5 rows x 5560 columns]\n"
     ]
    }
   ],
   "source": [
    "exp = pd.read_csv('expression6.csv', encoding=\"utf8\") # большая таблица\n",
    "dee = pd.read_csv('dee.csv') #маленькая таблица\n",
    "exp.pop('Unnamed: 0')\n",
    "dee.pop('Unnamed: 0')\n",
    "exp=exp.sort_values(by=['ensemble','symbol'])\n",
    "dee=dee.sort_values(by=['ensemble','symbol'])\n",
    "print(exp.head())\n",
    "print(exp.shape[0])\n",
    "print(dee.head())"
   ]
  },
  {
   "cell_type": "code",
   "execution_count": 5,
   "id": "02c46506-9070-447f-a638-c101040e9130",
   "metadata": {},
   "outputs": [
    {
     "name": "stdout",
     "output_type": "stream",
     "text": [
      "32544\n",
      "9412\n",
      "52636\n",
      "5560\n"
     ]
    }
   ],
   "source": [
    "print(exp.shape[0])\n",
    "print(exp.shape[1])\n",
    "print(dee.shape[0])\n",
    "print(dee.shape[1])"
   ]
  },
  {
   "cell_type": "markdown",
   "id": "1d3b3690-fc56-4d6e-a99c-9c7948414662",
   "metadata": {},
   "source": [
    "#### Из большой таблицы выделить ту часть, что соответствует маленькой"
   ]
  },
  {
   "cell_type": "code",
   "execution_count": 6,
   "id": "6f0f2e59-5277-4e00-9b75-87b576470cb7",
   "metadata": {},
   "outputs": [
    {
     "name": "stdout",
     "output_type": "stream",
     "text": [
      "                 ensemble symbol  GSM4042993  GSM4042994  GSM4042995  \\\n",
      "11893  ENSMUSG00000000001  Gnai3        3962        3807        2487   \n",
      "8469   ENSMUSG00000000003   Pbsn           0           0           0   \n",
      "46315  ENSMUSG00000000028  Cdc45        1254        1209        1144   \n",
      "9726   ENSMUSG00000000037  Scml2           0           0           1   \n",
      "39400  ENSMUSG00000000049   Apoh           0           0           3   \n",
      "\n",
      "       GSM4042996  GSM4042997  GSM4042998  GSM4042999  GSM4043000  ...  \\\n",
      "11893        3122        3196        2420        5688        7300  ...   \n",
      "8469            0           0           0           0           0  ...   \n",
      "46315        1362        1310        1264        1109        1569  ...   \n",
      "9726            1           0           0           2           0  ...   \n",
      "39400           0           1           4           0           0  ...   \n",
      "\n",
      "       GSM1234735  GSM1234736  GSM1234737  GSM1234738  GSM1234739  GSM1234740  \\\n",
      "11893        4077        4671        7293        4627        5002        6381   \n",
      "8469            0           0           0           0           0           0   \n",
      "46315         331         302         495         842        1317        2981   \n",
      "9726            2           4           8           5           7          21   \n",
      "39400           7           3           5           5           3           2   \n",
      "\n",
      "       GSM1234741  GSM1234742  GSM1234743  GSM1234744  \n",
      "11893        8072        4725        3897        3205  \n",
      "8469            0           0           0           0  \n",
      "46315        3138        1849        2530        1409  \n",
      "9726           15           0           1           1  \n",
      "39400           7           1          10           0  \n",
      "\n",
      "[5 rows x 5560 columns]\n",
      "31664\n"
     ]
    }
   ],
   "source": [
    "dee_cross=dee[dee.symbol.isin(exp.symbol)|dee.ensemble.isin(exp.ensemble)  ]\n",
    "print(dee_cross.head())\n",
    "print(dee_cross.shape[0])"
   ]
  },
  {
   "cell_type": "code",
   "execution_count": 7,
   "id": "e9d85ad8-61c1-4f34-85d2-3d2f731ede9b",
   "metadata": {},
   "outputs": [
    {
     "name": "stdout",
     "output_type": "stream",
     "text": [
      "                 ensemble symbol  GSM1356226  GSM1849922  GSM1897413  \\\n",
      "16843  ENSMUSG00000000001  Gnai3       17328        8597         507   \n",
      "23599  ENSMUSG00000000003    Psn           0           0           0   \n",
      "3402   ENSMUSG00000000028  Cdc45        1577        5479          27   \n",
      "26959  ENSMUSG00000000037  Scml2          16          86           0   \n",
      "1743   ENSMUSG00000000049   Apoh           1           0           0   \n",
      "\n",
      "       GSM1262088  GSM1119597  GSM1533925  GSM1511235  GSM1808311  ...  \\\n",
      "16843        6175         536        1079        7421       10601  ...   \n",
      "23599           0           0           0           0           0  ...   \n",
      "3402           53         293          14         187         512  ...   \n",
      "26959           7          50           0          10          32  ...   \n",
      "1743            0           0           0           0           0  ...   \n",
      "\n",
      "       GSM5550906  GSM5550908  GSM5550909  GSM5558220  GSM5558221  GSM5558224  \\\n",
      "16843       23609       13185       25213        2788        4192        3695   \n",
      "23599           0           0           0           0           0           0   \n",
      "3402         2540        1260         640         304         275         230   \n",
      "26959           7           0           0           0          10           9   \n",
      "1743            0           0           0           0           0           0   \n",
      "\n",
      "       GSM5558226  GSM5560174  GSM5560175  GSM5560176  \n",
      "16843        3538        6452        7118        6021  \n",
      "23599           0           0           0           0  \n",
      "3402          210        1156         947         399  \n",
      "26959           5          10           9          28  \n",
      "1743            3          11          14           0  \n",
      "\n",
      "[5 rows x 9412 columns]\n",
      "31621\n"
     ]
    }
   ],
   "source": [
    "exp_cross=exp[exp.symbol.isin(dee_cross.symbol)|exp.ensemble.isin(dee_cross.ensemble)  ]\n",
    "print(exp_cross.head())\n",
    "print(exp_cross.shape[0])"
   ]
  },
  {
   "cell_type": "markdown",
   "id": "3bb7a91a-ed59-42fa-b98a-f4dc054aa0b5",
   "metadata": {},
   "source": [
    "1. Отсортировать положение столбцов\n",
    "2. Перекрестить таблицы по списку столбцов"
   ]
  },
  {
   "cell_type": "code",
   "execution_count": 8,
   "id": "9e37ec24-8442-46b3-8f5c-ad9371647281",
   "metadata": {},
   "outputs": [
    {
     "name": "stdout",
     "output_type": "stream",
     "text": [
      "       GSM1026888  GSM1026889  GSM1026890  GSM1026891  GSM1026892  GSM1026893  \\\n",
      "16843        5567        5857        4467        5325        6059        5579   \n",
      "23599           0           0           0           0           0           0   \n",
      "3402           16          61          12          85         124         172   \n",
      "26959           2           6           5           0           3          12   \n",
      "1743            2           0           1           1           0           0   \n",
      "\n",
      "       GSM1026894  GSM1026895  GSM1026896  GSM1026897  ...  GSM994541  \\\n",
      "16843        4753        5581        4557        3708  ...       9219   \n",
      "23599           0           0           0           0  ...          0   \n",
      "3402          117         188           7          29  ...       1913   \n",
      "26959          10          16           1           3  ...         26   \n",
      "1743            2           0           3           1  ...          0   \n",
      "\n",
      "       GSM994542  GSM994543  GSM994544  GSM994545  GSM994546  GSM994547  \\\n",
      "16843       4756       7397       4716       6923       6574       8203   \n",
      "23599          0          0          1          0          0          0   \n",
      "3402        1219       1720       1271       1151       1475       1144   \n",
      "26959         30         19         27         24         37         31   \n",
      "1743           1          1          0          0          2          2   \n",
      "\n",
      "       GSM994548            ensemble  symbol  \n",
      "16843       6614  ENSMUSG00000000001   Gnai3  \n",
      "23599          0  ENSMUSG00000000003     Psn  \n",
      "3402        1380  ENSMUSG00000000028   Cdc45  \n",
      "26959         23  ENSMUSG00000000037   Scml2  \n",
      "1743           0  ENSMUSG00000000049    Apoh  \n",
      "\n",
      "[5 rows x 9412 columns]\n",
      "       GSM1005492  GSM1026888  GSM1026889  GSM1026890  GSM1026891  GSM1026892  \\\n",
      "11893          94        1857        1946        1460        1731        2064   \n",
      "8469            0           0           0           0           0           0   \n",
      "46315           9           6          17           4          27          46   \n",
      "9726            1           0           1           1           0           1   \n",
      "39400           0           1           0           0           0           0   \n",
      "\n",
      "       GSM1026893  GSM1026894  GSM1026895  GSM1026896  ...  GSM951562  \\\n",
      "11893        1829        1524        1851        1452  ...       1238   \n",
      "8469            0           0           0           0  ...          0   \n",
      "46315          61          43          58           1  ...        126   \n",
      "9726            4           3           3           1  ...          5   \n",
      "39400           0           1           0           0  ...          0   \n",
      "\n",
      "       GSM951563  GSM951564  GSM951565  GSM951566  GSM951567  GSM951568  \\\n",
      "11893       1618       2624       2351       3018       6720       3657   \n",
      "8469           0          0          0          0          0          0   \n",
      "46315         37        281        295        206        146         43   \n",
      "9726           3         12         15          9         10          3   \n",
      "39400          0          0          0          0          0          0   \n",
      "\n",
      "       GSM988446            ensemble  symbol  \n",
      "11893        697  ENSMUSG00000000001   Gnai3  \n",
      "8469           0  ENSMUSG00000000003    Pbsn  \n",
      "46315         76  ENSMUSG00000000028   Cdc45  \n",
      "9726         102  ENSMUSG00000000037   Scml2  \n",
      "39400          0  ENSMUSG00000000049    Apoh  \n",
      "\n",
      "[5 rows x 5560 columns]\n"
     ]
    }
   ],
   "source": [
    "exp_cross = exp_cross[sorted(exp_cross.columns )]\n",
    "dee_cross = dee_cross[sorted(dee_cross.columns )]\n",
    "print(exp_cross.head())\n",
    "print(dee_cross.head())"
   ]
  },
  {
   "cell_type": "code",
   "execution_count": 9,
   "id": "86b983ce-2a10-4dac-9dd2-907e6289afed",
   "metadata": {},
   "outputs": [],
   "source": [
    "col=dee_cross.columns\n",
    "g=[]\n",
    "for i in col:\n",
    "    g.append(i)"
   ]
  },
  {
   "cell_type": "code",
   "execution_count": 10,
   "id": "366e05b9-1e6b-42be-b272-b8345a57a060",
   "metadata": {},
   "outputs": [],
   "source": [
    "exp_cross=exp_cross.loc[:, exp_cross.columns.intersection(g)]\n",
    "col=exp_cross.columns\n",
    "h=[]\n",
    "for i in col:\n",
    "    h.append(i)\n",
    "dee_cross=dee_cross.loc[:, dee_cross.columns.intersection(h)]"
   ]
  },
  {
   "cell_type": "code",
   "execution_count": 11,
   "id": "27a2b9da-cbb7-4213-9cec-19374d22364b",
   "metadata": {},
   "outputs": [
    {
     "name": "stdout",
     "output_type": "stream",
     "text": [
      "       GSM1026888  GSM1026889  GSM1026890  GSM1026891  GSM1026892  GSM1026893  \\\n",
      "16843        5567        5857        4467        5325        6059        5579   \n",
      "23599           0           0           0           0           0           0   \n",
      "3402           16          61          12          85         124         172   \n",
      "26959           2           6           5           0           3          12   \n",
      "1743            2           0           1           1           0           0   \n",
      "\n",
      "       GSM1026894  GSM1026895  GSM1026896  GSM1026897  ...  GSM951562  \\\n",
      "16843        4753        5581        4557        3708  ...       1090   \n",
      "23599           0           0           0           0  ...          0   \n",
      "3402          117         188           7          29  ...        123   \n",
      "26959          10          16           1           3  ...          4   \n",
      "1743            2           0           3           1  ...          0   \n",
      "\n",
      "       GSM951563  GSM951564  GSM951565  GSM951566  GSM951567  GSM951568  \\\n",
      "16843       1446       2473       2214       2912       6433       3521   \n",
      "23599          0          0          0          0          0          0   \n",
      "3402          33        266        274        196        138         41   \n",
      "26959          4         14         17         13         11          5   \n",
      "1743           0          0          0          0          1          0   \n",
      "\n",
      "       GSM988446            ensemble  symbol  \n",
      "16843          0  ENSMUSG00000000001   Gnai3  \n",
      "23599          4  ENSMUSG00000000003     Psn  \n",
      "3402           0  ENSMUSG00000000028   Cdc45  \n",
      "26959         11  ENSMUSG00000000037   Scml2  \n",
      "1743           3  ENSMUSG00000000049    Apoh  \n",
      "\n",
      "[5 rows x 5181 columns]\n",
      "       GSM1026888  GSM1026889  GSM1026890  GSM1026891  GSM1026892  GSM1026893  \\\n",
      "11893        1857        1946        1460        1731        2064        1829   \n",
      "8469            0           0           0           0           0           0   \n",
      "46315           6          17           4          27          46          61   \n",
      "9726            0           1           1           0           1           4   \n",
      "39400           1           0           0           0           0           0   \n",
      "\n",
      "       GSM1026894  GSM1026895  GSM1026896  GSM1026897  ...  GSM951562  \\\n",
      "11893        1524        1851        1452        1211  ...       1238   \n",
      "8469            0           0           0           0  ...          0   \n",
      "46315          43          58           1           7  ...        126   \n",
      "9726            3           3           1           0  ...          5   \n",
      "39400           1           0           0           0  ...          0   \n",
      "\n",
      "       GSM951563  GSM951564  GSM951565  GSM951566  GSM951567  GSM951568  \\\n",
      "11893       1618       2624       2351       3018       6720       3657   \n",
      "8469           0          0          0          0          0          0   \n",
      "46315         37        281        295        206        146         43   \n",
      "9726           3         12         15          9         10          3   \n",
      "39400          0          0          0          0          0          0   \n",
      "\n",
      "       GSM988446            ensemble  symbol  \n",
      "11893        697  ENSMUSG00000000001   Gnai3  \n",
      "8469           0  ENSMUSG00000000003    Pbsn  \n",
      "46315         76  ENSMUSG00000000028   Cdc45  \n",
      "9726         102  ENSMUSG00000000037   Scml2  \n",
      "39400          0  ENSMUSG00000000049    Apoh  \n",
      "\n",
      "[5 rows x 5181 columns]\n"
     ]
    }
   ],
   "source": [
    "print(exp_cross.head())\n",
    "print(dee_cross.head())"
   ]
  },
  {
   "cell_type": "code",
   "execution_count": 12,
   "id": "763a05c4-4e69-49cb-bb9d-f99ca7d43ab8",
   "metadata": {},
   "outputs": [],
   "source": [
    "exp_cross.to_csv('exp_cross.csv')\n",
    "dee_cross.to_csv('dee_cross.csv')"
   ]
  },
  {
   "cell_type": "code",
   "execution_count": null,
   "id": "cba90f86-2c09-44fd-90d1-4ec8dd5a8331",
   "metadata": {},
   "outputs": [],
   "source": []
  }
 ],
 "metadata": {
  "kernelspec": {
   "display_name": "Python 3 (ipykernel)",
   "language": "python",
   "name": "python3"
  },
  "language_info": {
   "codemirror_mode": {
    "name": "ipython",
    "version": 3
   },
   "file_extension": ".py",
   "mimetype": "text/x-python",
   "name": "python",
   "nbconvert_exporter": "python",
   "pygments_lexer": "ipython3",
   "version": "3.9.13"
  }
 },
 "nbformat": 4,
 "nbformat_minor": 5
}

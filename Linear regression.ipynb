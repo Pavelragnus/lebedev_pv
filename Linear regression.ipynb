{
 "cells": [
  {
   "cell_type": "code",
   "execution_count": 1,
   "id": "9f73b6cd-6642-4761-bf30-81158478985e",
   "metadata": {},
   "outputs": [
    {
     "data": {
      "text/plain": [
       "8.48"
      ]
     },
     "execution_count": 1,
     "metadata": {},
     "output_type": "execute_result"
    }
   ],
   "source": [
    "x = 3.23 + 1.75 * 3\n",
    "x"
   ]
  },
  {
   "cell_type": "code",
   "execution_count": 2,
   "id": "c6114d36-e44e-4249-8fe7-7d0a4dd0c1d3",
   "metadata": {},
   "outputs": [],
   "source": [
    "x = [13, 4, 11, 20]\n",
    "y = [8, 5, 6, 15]\n"
   ]
  },
  {
   "cell_type": "code",
   "execution_count": 5,
   "id": "2b365da8-037e-4b18-af34-a9e079c128a5",
   "metadata": {},
   "outputs": [],
   "source": [
    "import numpy as np"
   ]
  },
  {
   "cell_type": "code",
   "execution_count": 6,
   "id": "fa2c17b4-efb0-4b3e-8754-8f63836a37ab",
   "metadata": {},
   "outputs": [],
   "source": [
    "x = np.array(x)\n",
    "y = np.array(y)"
   ]
  },
  {
   "cell_type": "code",
   "execution_count": 7,
   "id": "3bfe3301-8449-41cc-b0d8-b39e6ffc507a",
   "metadata": {},
   "outputs": [
    {
     "data": {
      "text/plain": [
       "12.0"
      ]
     },
     "execution_count": 7,
     "metadata": {},
     "output_type": "execute_result"
    }
   ],
   "source": [
    "x.mean()"
   ]
  },
  {
   "cell_type": "code",
   "execution_count": 8,
   "id": "6535f67c-07b3-49bd-acd7-ab68c5d026f7",
   "metadata": {},
   "outputs": [
    {
     "data": {
      "text/plain": [
       "8.5"
      ]
     },
     "execution_count": 8,
     "metadata": {},
     "output_type": "execute_result"
    }
   ],
   "source": [
    "y.mean()"
   ]
  },
  {
   "cell_type": "code",
   "execution_count": 9,
   "id": "0430f691-9b33-45a8-94ba-7c57ee3b42d0",
   "metadata": {},
   "outputs": [],
   "source": [
    "def calculate_slope(x, y):\n",
    "    mx = x - x.mean()\n",
    "    my = y - y.mean()\n",
    "    return sum(mx * my) / sum(mx**2)\n",
    "def get_params(x, y):\n",
    "    a = calculate_slope(x, y)\n",
    "    b = y.mean() - a * x.mean()\n",
    "    return a, b\n",
    "a, b = get_params(x, y)"
   ]
  },
  {
   "cell_type": "code",
   "execution_count": 10,
   "id": "56ee252d-6a52-4adf-8465-3c94a0549579",
   "metadata": {},
   "outputs": [
    {
     "data": {
      "text/plain": [
       "0.6307692307692307"
      ]
     },
     "execution_count": 10,
     "metadata": {},
     "output_type": "execute_result"
    }
   ],
   "source": [
    "a"
   ]
  },
  {
   "cell_type": "code",
   "execution_count": 11,
   "id": "7e1bce61-95be-490b-818a-b56376d18ae1",
   "metadata": {},
   "outputs": [
    {
     "data": {
      "text/plain": [
       "0.930769230769231"
      ]
     },
     "execution_count": 11,
     "metadata": {},
     "output_type": "execute_result"
    }
   ],
   "source": [
    "b"
   ]
  },
  {
   "cell_type": "code",
   "execution_count": 14,
   "id": "150686b6-1229-46f0-b392-b16047776626",
   "metadata": {},
   "outputs": [],
   "source": [
    "import scipy.stats\n"
   ]
  },
  {
   "cell_type": "code",
   "execution_count": 18,
   "id": "b310c22e-8646-4b21-8e8b-954e54154f04",
   "metadata": {},
   "outputs": [],
   "source": [
    "slope, intercept, r, p, se = linregress(x, y)\n",
    "res = linregress(x, y)"
   ]
  },
  {
   "cell_type": "code",
   "execution_count": 22,
   "id": "2c65a49c-7074-4bec-9b15-dd5b8279cdcb",
   "metadata": {},
   "outputs": [
    {
     "name": "stdout",
     "output_type": "stream",
     "text": [
      "{1.4435091642119346} {-0.18197070267347315}\n",
      "{11.72828765845888} {-9.866749196920418}\n"
     ]
    }
   ],
   "source": [
    "tinv = lambda p, df: abs(t.ppf(p/2, df))\n",
    "ts = tinv(0.05, len(x)-2)\n",
    "\n",
    "print({res.slope + ts*res.stderr}, {res.slope - ts*res.stderr})\n",
    "\n",
    "print({res.intercept + ts*res.intercept_stderr}, {res.intercept - ts*res.intercept_stderr})\n"
   ]
  },
  {
   "cell_type": "code",
   "execution_count": 23,
   "id": "e297584a-daf7-4a16-8af0-66b7a103db85",
   "metadata": {},
   "outputs": [
    {
     "data": {
      "text/plain": [
       "4.3026527299112765"
      ]
     },
     "execution_count": 23,
     "metadata": {},
     "output_type": "execute_result"
    }
   ],
   "source": [
    "ts"
   ]
  },
  {
   "cell_type": "code",
   "execution_count": 34,
   "id": "1b219e0a-c140-414b-ae58-6d63247c3274",
   "metadata": {},
   "outputs": [
    {
     "data": {
      "text/plain": [
       "2.5095026499878137"
      ]
     },
     "execution_count": 34,
     "metadata": {},
     "output_type": "execute_result"
    }
   ],
   "source": [
    "res.intercept_stderr"
   ]
  },
  {
   "cell_type": "code",
   "execution_count": 36,
   "id": "28663456-f7f2-49b6-ac03-59534d5c5fb3",
   "metadata": {},
   "outputs": [
    {
     "data": {
      "text/plain": [
       "3.3392981457390087"
      ]
     },
     "execution_count": 36,
     "metadata": {},
     "output_type": "execute_result"
    }
   ],
   "source": [
    "res.slope / res.stderr"
   ]
  },
  {
   "cell_type": "code",
   "execution_count": 39,
   "id": "0cf5225b-8596-4f24-9a76-b69cfff135e2",
   "metadata": {},
   "outputs": [
    {
     "data": {
      "text/plain": [
       "0.8479192938209331"
      ]
     },
     "execution_count": 39,
     "metadata": {},
     "output_type": "execute_result"
    }
   ],
   "source": [
    "r**2"
   ]
  },
  {
   "cell_type": "code",
   "execution_count": 54,
   "id": "4d9f2312-597e-493d-8b09-824c984a676f",
   "metadata": {},
   "outputs": [
    {
     "data": {
      "text/plain": [
       "1.1201568305348617"
      ]
     },
     "execution_count": 54,
     "metadata": {},
     "output_type": "execute_result"
    }
   ],
   "source": [
    "(res.intercept_stderr*(1/(len(x)-2)))**0.5"
   ]
  },
  {
   "cell_type": "code",
   "execution_count": 56,
   "id": "e60285cf-4a26-4e35-a053-40b7c171533d",
   "metadata": {},
   "outputs": [],
   "source": [
    "def rse(x,y):\n",
    "    rss = (np.square(y-intercept-(slope*x))).sum()\n",
    "    rse = np.sqrt(rss/(len(x)-2))\n",
    "    return(rse)"
   ]
  },
  {
   "cell_type": "code",
   "execution_count": 57,
   "id": "5ea3bc25-4cf7-475d-8b8e-4a02476cb621",
   "metadata": {},
   "outputs": [
    {
     "data": {
      "text/plain": [
       "2.153708786828326"
      ]
     },
     "execution_count": 57,
     "metadata": {},
     "output_type": "execute_result"
    }
   ],
   "source": [
    "rse(x,y)"
   ]
  },
  {
   "cell_type": "code",
   "execution_count": null,
   "id": "fc9a6a8f-73ef-4eda-b283-8bd463ce53a8",
   "metadata": {},
   "outputs": [],
   "source": []
  }
 ],
 "metadata": {
  "kernelspec": {
   "display_name": "Python 3 (ipykernel)",
   "language": "python",
   "name": "python3"
  },
  "language_info": {
   "codemirror_mode": {
    "name": "ipython",
    "version": 3
   },
   "file_extension": ".py",
   "mimetype": "text/x-python",
   "name": "python",
   "nbconvert_exporter": "python",
   "pygments_lexer": "ipython3",
   "version": "3.9.13"
  }
 },
 "nbformat": 4,
 "nbformat_minor": 5
}
